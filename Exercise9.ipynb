{
  "cells": [
    {
      "cell_type": "markdown",
      "metadata": {
        "id": "view-in-github",
        "colab_type": "text"
      },
      "source": [
        "<a href=\"https://colab.research.google.com/github/moridin04/CCMACLRL_EXERCISES_COM221ML/blob/main/Exercise9.ipynb\" target=\"_parent\"><img src=\"https://colab.research.google.com/assets/colab-badge.svg\" alt=\"Open In Colab\"/></a>"
      ]
    },
    {
      "cell_type": "markdown",
      "source": [
        "## Exercise 9: Choosing the best performing model on a dataset\n",
        "\n",
        "Instructions:\n",
        "\n",
        "- Use the Dataset File to train your model\n",
        "- Use the Test File to generate your results\n",
        "- Use the Sample Submission file to generate the same format\n",
        "- Use all classification models\n",
        "\n",
        "Submit your results to:\n",
        "https://www.kaggle.com/competitions/playground-series-s4e10/overview\n",
        "\n"
      ],
      "metadata": {
        "id": "99_2rPCJrNfK"
      }
    },
    {
      "cell_type": "code",
      "execution_count": null,
      "metadata": {
        "id": "R_se3V8gftVL"
      },
      "outputs": [],
      "source": [
        "import numpy as np\n",
        "import pandas as pd\n",
        "import seaborn as sns\n",
        "\n",
        "from matplotlib import pyplot as plt\n",
        "from sklearn.neighbors import KNeighborsClassifier\n",
        "from sklearn.linear_model import LogisticRegression\n",
        "from sklearn.svm import SVC\n",
        "from sklearn.naive_bayes import GaussianNB\n",
        "from sklearn.tree import DecisionTreeClassifier\n",
        "from sklearn.ensemble import RandomForestClassifier\n",
        "from sklearn.model_selection import train_test_split\n",
        "from sklearn.model_selection import cross_val_score\n",
        "from sklearn.preprocessing import StandardScaler"
      ]
    },
    {
      "cell_type": "markdown",
      "metadata": {
        "id": "eCNNEXIhftVN"
      },
      "source": [
        "## Dataset File"
      ]
    },
    {
      "cell_type": "code",
      "execution_count": null,
      "metadata": {
        "id": "-Cqj3uEkftVO"
      },
      "outputs": [],
      "source": [
        "dataset_url = 'https://github.com/robitussin/CCMACLRL_EXERCISES/blob/main/datasets/loan_approval/train.csv?raw=true'\n",
        "df = pd.read_csv(dataset_url)"
      ]
    },
    {
      "cell_type": "markdown",
      "metadata": {
        "id": "mLFiGySNftVP"
      },
      "source": [
        "## Test File"
      ]
    },
    {
      "cell_type": "code",
      "execution_count": null,
      "metadata": {
        "id": "7pKmP53fftVP"
      },
      "outputs": [],
      "source": [
        "test_url = 'https://github.com/robitussin/CCMACLRL_EXERCISES/blob/main/datasets/loan_approval/test.csv?raw=true'\n",
        "dt=pd.read_csv(test_url)"
      ]
    },
    {
      "cell_type": "code",
      "source": [
        "dt.info()"
      ],
      "metadata": {
        "id": "2f11HsMzqEvJ"
      },
      "execution_count": null,
      "outputs": []
    },
    {
      "cell_type": "markdown",
      "metadata": {
        "id": "ntGpbsBg8hft"
      },
      "source": [
        "## Sample Submission File"
      ]
    },
    {
      "cell_type": "code",
      "execution_count": null,
      "metadata": {
        "id": "-5Dwtw_w3U8W"
      },
      "outputs": [],
      "source": [
        "sample_submission_url ='https://github.com/robitussin/CCMACLRL_EXERCISES/blob/main/datasets/loan_approval/sample_submission.csv?raw=true'\n",
        "\n",
        "sf=pd.read_csv(sample_submission_url)"
      ]
    },
    {
      "cell_type": "code",
      "source": [
        "sf.info()"
      ],
      "metadata": {
        "id": "K1_62qZBqLjV"
      },
      "execution_count": null,
      "outputs": []
    },
    {
      "cell_type": "markdown",
      "source": [],
      "metadata": {
        "id": "7nNjd6aErISr"
      }
    },
    {
      "cell_type": "code",
      "source": [
        "df.info()"
      ],
      "metadata": {
        "id": "DtqJH7yPrHSm"
      },
      "execution_count": null,
      "outputs": []
    },
    {
      "cell_type": "code",
      "source": [
        "df.head()"
      ],
      "metadata": {
        "id": "zR8_VI4GiDjT"
      },
      "execution_count": null,
      "outputs": []
    },
    {
      "cell_type": "code",
      "source": [
        "df['loan_status'].value_counts()"
      ],
      "metadata": {
        "id": "7Sv0mezHhacs"
      },
      "execution_count": null,
      "outputs": []
    },
    {
      "cell_type": "code",
      "source": [
        "df['person_home_ownership'] = df['person_home_ownership'].map({\"RENT\" : 1 , \"OWN\" : 0})\n",
        "df['loan_intent'] = df['loan_intent'].map({\"PERSONAL\" : 1 , \"MORTGAGE\" : 2 , \"MEDICAL\" : 3, \"VENTURE\" : 4, \"EDUCATION\" : 5})\n",
        "df['loan_grade'] = df['loan_grade'].map({\"A\" : 1 , \"B\" : 2 , \"C\" : 3, \"D\" : 4, \"E\" : 5})\n",
        "df['cb_person_default_on_file'] = df['cb_person_default_on_file'].map({\"Y\" : 1 , \"N\" : 0})"
      ],
      "metadata": {
        "id": "ioR1V0kghn0M"
      },
      "execution_count": null,
      "outputs": []
    },
    {
      "cell_type": "code",
      "source": [
        "df.isnull().sum()"
      ],
      "metadata": {
        "id": "2ACooO7qjPyz"
      },
      "execution_count": null,
      "outputs": []
    },
    {
      "cell_type": "code",
      "source": [
        "columns_with_null = ['person_home_ownership', 'loan_intent', 'loan_grade']\n",
        "for column in columns_with_null:\n",
        "    df['person_home_ownership'] = df['person_home_ownership'].fillna(df['person_home_ownership'].mode()[0])\n",
        "    df['loan_intent'] = df['loan_intent'].fillna(df['loan_intent'].mode()[0])\n",
        "    df['loan_grade'] = df['loan_grade'].fillna(df['loan_grade'].mode()[0])"
      ],
      "metadata": {
        "id": "B7cgz6_SjXnD"
      },
      "execution_count": null,
      "outputs": []
    },
    {
      "cell_type": "code",
      "source": [
        "df.isnull().sum()"
      ],
      "metadata": {
        "id": "V2SnGvSdkHQz"
      },
      "execution_count": null,
      "outputs": []
    },
    {
      "cell_type": "code",
      "source": [
        "x = df.drop(columns = ['id', 'loan_status']).values\n",
        "y = df['loan_status'].values"
      ],
      "metadata": {
        "id": "RmoKlPsZlPHy"
      },
      "execution_count": null,
      "outputs": []
    },
    {
      "cell_type": "code",
      "source": [
        "x_train, x_test, y_train, y_test = train_test_split(x, y, test_size = 0.3, random_state = 0)"
      ],
      "metadata": {
        "id": "zcgUgTC2lYta"
      },
      "execution_count": null,
      "outputs": []
    },
    {
      "cell_type": "markdown",
      "source": [
        "## 1. Train a KNN Classifier"
      ],
      "metadata": {
        "id": "19dHs7ZprqHd"
      }
    },
    {
      "cell_type": "code",
      "source": [
        "score_list = {}"
      ],
      "metadata": {
        "id": "g-2h-34Enq4Y"
      },
      "execution_count": null,
      "outputs": []
    },
    {
      "cell_type": "code",
      "source": [
        "knn = KNeighborsClassifier(n_neighbors = 13)\n",
        "knn.fit(x_train, y_train)\n",
        "knn.score(x_test, y_test)"
      ],
      "metadata": {
        "id": "sfo3q7hjru-k"
      },
      "execution_count": null,
      "outputs": []
    },
    {
      "cell_type": "markdown",
      "source": [
        "- Perform cross validation"
      ],
      "metadata": {
        "id": "lqPzPhIs0zjf"
      }
    },
    {
      "cell_type": "code",
      "source": [
        "knn_scores = cross_val_score(knn, x, y, cv = 5)\n",
        "knn_scores"
      ],
      "metadata": {
        "id": "Xz-BV38o04PL"
      },
      "execution_count": null,
      "outputs": []
    },
    {
      "cell_type": "code",
      "source": [
        "print(\"%0.2f accuracy with a standard deviation of %0.2f\" % (knn_scores.mean(), knn_scores.std()))\n",
        "score_list[\"KNN Classifier\"] = knn_scores.mean()"
      ],
      "metadata": {
        "id": "kjGf_VUas4rM"
      },
      "execution_count": null,
      "outputs": []
    },
    {
      "cell_type": "markdown",
      "source": [
        "## 2. Train a Logistic Regression Classifier"
      ],
      "metadata": {
        "id": "9iQFaBrfzNmM"
      }
    },
    {
      "cell_type": "code",
      "source": [
        "LR = LogisticRegression()\n",
        "LR.fit(x_train, y_train)\n",
        "LR_score = LR.score(x_test, y_test)"
      ],
      "metadata": {
        "id": "LaiPKRnRzN3P"
      },
      "execution_count": null,
      "outputs": []
    },
    {
      "cell_type": "markdown",
      "source": [
        "- Perform cross validation"
      ],
      "metadata": {
        "id": "sj2wlK-4044w"
      }
    },
    {
      "cell_type": "code",
      "source": [
        "LR_scores = cross_val_score(LR, x, y, cv = 5)\n",
        "LR_scores"
      ],
      "metadata": {
        "id": "LaPPbhEb0740"
      },
      "execution_count": null,
      "outputs": []
    },
    {
      "cell_type": "code",
      "source": [
        "print(\"%0.2f accuracy with a standard deviation of %0.2f\" % (LR_scores.mean(), LR_scores.std()))\n",
        "score_list[\"Logistic Regression Classifier\"] = LR_scores.mean()"
      ],
      "metadata": {
        "id": "YfWQ5oh8uADr"
      },
      "execution_count": null,
      "outputs": []
    },
    {
      "cell_type": "markdown",
      "source": [
        "## 3. Train a Naive Bayes Classifier"
      ],
      "metadata": {
        "id": "MK7R5QHszVir"
      }
    },
    {
      "cell_type": "code",
      "source": [
        "NBC = GaussianNB()\n",
        "NBC.fit(x_train, y_train)\n",
        "NBC.score(x_test, y_test)"
      ],
      "metadata": {
        "id": "wh3rW-_SzV1a"
      },
      "execution_count": null,
      "outputs": []
    },
    {
      "cell_type": "markdown",
      "source": [
        "- Perform cross validation"
      ],
      "metadata": {
        "id": "r1s7wlRE0-6r"
      }
    },
    {
      "cell_type": "code",
      "source": [
        "NBC_scores = cross_val_score(NBC, x, y, cv = 5)\n",
        "NBC_scores"
      ],
      "metadata": {
        "id": "Czj8xzAa0_Nt"
      },
      "execution_count": null,
      "outputs": []
    },
    {
      "cell_type": "code",
      "source": [
        "print(\"%0.2f accuracy with a standard deviation of %0.2f\" % (NBC_scores.mean(), NBC_scores.std()))\n",
        "score_list[\"Naive Bayes Classifier\"] = NBC_scores.mean()"
      ],
      "metadata": {
        "id": "12TpLytPuX-S"
      },
      "execution_count": null,
      "outputs": []
    },
    {
      "cell_type": "markdown",
      "source": [
        "## 4. Train a SVM Classifier"
      ],
      "metadata": {
        "id": "GlMLKDF_rvUM"
      }
    },
    {
      "cell_type": "code",
      "source": [
        "SVC = SVC()\n",
        "SVC.fit(x_train, y_train)\n",
        "SVC.score(x_test, y_test)"
      ],
      "metadata": {
        "id": "0MJX8VBysFxR"
      },
      "execution_count": null,
      "outputs": []
    },
    {
      "cell_type": "markdown",
      "source": [
        "- Perform cross validation"
      ],
      "metadata": {
        "id": "-wzEMe9J1DSe"
      }
    },
    {
      "cell_type": "code",
      "source": [
        "SVC_scores = cross_val_score(SVC, x, y, cv = 5)\n",
        "SVC_scores"
      ],
      "metadata": {
        "id": "dPJlm2S-1Dqe"
      },
      "execution_count": null,
      "outputs": []
    },
    {
      "cell_type": "code",
      "source": [
        "print(\"%0.2f accuracy with a standard deviation of %0.2f\" % (SVC_scores.mean(), SVC_scores.std()))\n",
        "score_list[\"SVM Classifier\"] = SVC_scores.mean()"
      ],
      "metadata": {
        "id": "uHn5aAhSw5Kn"
      },
      "execution_count": null,
      "outputs": []
    },
    {
      "cell_type": "markdown",
      "source": [
        "## 5. Train a Decision Tree Classifier"
      ],
      "metadata": {
        "id": "8n-ScOLqze60"
      }
    },
    {
      "cell_type": "code",
      "source": [
        "DTC = DecisionTreeClassifier(random_state = 1)\n",
        "DTC.fit(x_train, y_train)\n",
        "DTC_score = DTC.score(x_test, y_test)"
      ],
      "metadata": {
        "id": "fqLNJkoHzfL4"
      },
      "execution_count": null,
      "outputs": []
    },
    {
      "cell_type": "markdown",
      "source": [
        "- Perform cross validation"
      ],
      "metadata": {
        "id": "5dkFpQ2j1GUO"
      }
    },
    {
      "cell_type": "code",
      "source": [
        "DTC_scores = cross_val_score(DTC, x, y, cv = 5)\n",
        "DTC_scores"
      ],
      "metadata": {
        "id": "hOXY4nc71Gk5"
      },
      "execution_count": null,
      "outputs": []
    },
    {
      "cell_type": "code",
      "source": [
        "print(\"%0.2f accuracy with a standard deviation of %0.2f\" % (DTC_scores.mean(), DTC_scores.std()))\n",
        "score_list[\"Decision Tree Classifier\"] = DTC_scores.mean()"
      ],
      "metadata": {
        "id": "rkCAZ7qBxJbA"
      },
      "execution_count": null,
      "outputs": []
    },
    {
      "cell_type": "markdown",
      "source": [
        "## 6. Train a Random Forest Classifier"
      ],
      "metadata": {
        "id": "MkJ6eVbNsBay"
      }
    },
    {
      "cell_type": "code",
      "source": [
        "scaler = StandardScaler()\n",
        "x_train_scaled = scaler.fit_transform(x_train)\n",
        "x_test_scaled = scaler.transform(x_test)"
      ],
      "metadata": {
        "id": "sjH8nHSe1GqF"
      },
      "execution_count": null,
      "outputs": []
    },
    {
      "cell_type": "code",
      "source": [
        "RFC = RandomForestClassifier(criterion = 'gini')\n",
        "RFC.fit(x_train_scaled, y_train)\n",
        "RFC_score = RFC.score(x_test, y_test)\n",
        "score_list[\"Random Forest Classifier\"] = RFC_score\n",
        "print(f\"Score is {RFC_score}\")"
      ],
      "metadata": {
        "id": "w_LoDOYHsGo2"
      },
      "execution_count": null,
      "outputs": []
    },
    {
      "cell_type": "markdown",
      "source": [
        "## 7. Compare all the performance of all classification models"
      ],
      "metadata": {
        "id": "3orhk-Vf0Jg-"
      }
    },
    {
      "cell_type": "code",
      "source": [
        "score_list = list(score_list.items())\n",
        "for alg, score in score_list:\n",
        "    print(f\"{alg} Score is {str(score)[:4]} \")"
      ],
      "metadata": {
        "id": "r5FUkgck0VY8"
      },
      "execution_count": null,
      "outputs": []
    },
    {
      "cell_type": "markdown",
      "source": [
        "The best algorithm is **Random Forest Classifier**."
      ],
      "metadata": {
        "id": "_ywyPMEL0J5G"
      }
    },
    {
      "cell_type": "code",
      "source": [
        "y_pred = RFC.predict(x_test)"
      ],
      "metadata": {
        "id": "8r7g01PM32i6"
      },
      "execution_count": null,
      "outputs": []
    },
    {
      "cell_type": "code",
      "source": [
        "dt.info()"
      ],
      "metadata": {
        "id": "ObO5Ljhj4OGp"
      },
      "execution_count": null,
      "outputs": []
    },
    {
      "cell_type": "code",
      "source": [
        "dt.head()"
      ],
      "metadata": {
        "id": "THbwmudm4VP6"
      },
      "execution_count": null,
      "outputs": []
    },
    {
      "cell_type": "code",
      "source": [
        "dt.isnull().sum()"
      ],
      "metadata": {
        "id": "NiHoUg5k4gMx"
      },
      "execution_count": null,
      "outputs": []
    },
    {
      "cell_type": "code",
      "source": [
        "dt['person_home_ownership'] = dt['person_home_ownership'].map({\"RENT\" : 1 , \"OWN\" : 0})\n",
        "dt['loan_intent'] = dt['loan_intent'].map({\"PERSONAL\" : 1 , \"MORTGAGE\" : 2 , \"MEDICAL\" : 3, \"VENTURE\" : 4, \"EDUCATION\" : 5, \"HOMEIMPROVEMENT\" : 6, \"DEBTCONSOLIDATION\" : 7})\n",
        "dt['loan_grade'] = dt['loan_grade'].map({\"A\" : 1 , \"B\" : 2 , \"C\" : 3, \"D\" : 4, \"E\" : 5, \"F\" : 6})\n",
        "dt['cb_person_default_on_file'] = dt['cb_person_default_on_file'].map({\"Y\" : 1 , \"N\" : 0})"
      ],
      "metadata": {
        "id": "TEkeE9um4qNq"
      },
      "execution_count": null,
      "outputs": []
    },
    {
      "cell_type": "markdown",
      "source": [
        "## 9. Generate Submission File\n",
        "\n",
        "Choose the model that has the best performance to generate a submission file."
      ],
      "metadata": {
        "id": "a6UAAMyepmHi"
      }
    },
    {
      "cell_type": "code",
      "source": [
        "id = sf.pop('id')\n",
        "y_pred = RFC.predict(dt)\n",
        "\n",
        "# Create a submission DataFrame\n",
        "submission_df = pd.DataFrame({\n",
        "    'id': id,\n",
        "    'loan_status': y_pred\n",
        "})\n",
        "\n",
        "# Save the submission DataFrame to a CSV file\n",
        "submission_df.to_csv('submission_file.csv', index=False)\n",
        "print(\"Submission file created: submission_file.csv\")"
      ],
      "metadata": {
        "id": "HrelEEFJpjzI"
      },
      "execution_count": null,
      "outputs": []
    }
  ],
  "metadata": {
    "colab": {
      "provenance": [],
      "collapsed_sections": [
        "eCNNEXIhftVN",
        "mLFiGySNftVP",
        "ntGpbsBg8hft"
      ],
      "include_colab_link": true
    },
    "kernelspec": {
      "display_name": "Python 3",
      "name": "python3"
    },
    "language_info": {
      "name": "python",
      "version": "3.12.4"
    }
  },
  "nbformat": 4,
  "nbformat_minor": 0
}