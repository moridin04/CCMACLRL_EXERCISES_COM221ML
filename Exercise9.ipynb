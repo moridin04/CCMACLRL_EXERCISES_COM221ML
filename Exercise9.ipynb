{
  "cells": [
    {
      "cell_type": "markdown",
      "metadata": {
        "id": "view-in-github",
        "colab_type": "text"
      },
      "source": [
        "<a href=\"https://colab.research.google.com/github/moridin04/CCMACLRL_EXERCISES_COM221ML/blob/main/Exercise9.ipynb\" target=\"_parent\"><img src=\"https://colab.research.google.com/assets/colab-badge.svg\" alt=\"Open In Colab\"/></a>"
      ]
    },
    {
      "cell_type": "markdown",
      "metadata": {
        "id": "99_2rPCJrNfK"
      },
      "source": [
        "## Exercise 9: Choosing the best performing model on a dataset\n",
        "\n",
        "Instructions:\n",
        "\n",
        "- Use the Dataset File to train your model\n",
        "- Use the Test File to generate your results\n",
        "- Use the Sample Submission file to generate the same format\n",
        "- Use all classification models\n",
        "\n",
        "Submit your results to:\n",
        "https://www.kaggle.com/competitions/playground-series-s4e10/overview\n",
        "\n"
      ]
    },
    {
      "cell_type": "code",
      "execution_count": 41,
      "metadata": {
        "id": "R_se3V8gftVL"
      },
      "outputs": [],
      "source": [
        "import numpy as np\n",
        "import pandas as pd\n",
        "import seaborn as sns\n",
        "\n",
        "from matplotlib import pyplot as plt\n",
        "from sklearn.neighbors import KNeighborsClassifier\n",
        "from sklearn.linear_model import LogisticRegression\n",
        "from sklearn.svm import SVC\n",
        "from sklearn.naive_bayes import GaussianNB\n",
        "from sklearn.tree import DecisionTreeClassifier\n",
        "from sklearn.ensemble import RandomForestClassifier\n",
        "from sklearn.model_selection import train_test_split\n",
        "from sklearn.model_selection import cross_val_score\n",
        "from sklearn.preprocessing import StandardScaler"
      ]
    },
    {
      "cell_type": "markdown",
      "metadata": {
        "id": "eCNNEXIhftVN"
      },
      "source": [
        "## Dataset File"
      ]
    },
    {
      "cell_type": "code",
      "execution_count": 42,
      "metadata": {
        "id": "-Cqj3uEkftVO"
      },
      "outputs": [],
      "source": [
        "dataset_url = 'https://github.com/robitussin/CCMACLRL_EXERCISES/blob/main/datasets/loan_approval/train.csv?raw=true'\n",
        "df = pd.read_csv(dataset_url)"
      ]
    },
    {
      "cell_type": "markdown",
      "metadata": {
        "id": "mLFiGySNftVP"
      },
      "source": [
        "## Test File"
      ]
    },
    {
      "cell_type": "code",
      "execution_count": 43,
      "metadata": {
        "id": "7pKmP53fftVP"
      },
      "outputs": [],
      "source": [
        "test_url = 'https://github.com/robitussin/CCMACLRL_EXERCISES/blob/main/datasets/loan_approval/test.csv?raw=true'\n",
        "dt=pd.read_csv(test_url)"
      ]
    },
    {
      "cell_type": "code",
      "execution_count": 44,
      "metadata": {
        "colab": {
          "base_uri": "https://localhost:8080/"
        },
        "id": "2f11HsMzqEvJ",
        "outputId": "a422ccd7-7f0f-4476-b806-9802eb5e8ddf"
      },
      "outputs": [
        {
          "output_type": "stream",
          "name": "stdout",
          "text": [
            "<class 'pandas.core.frame.DataFrame'>\n",
            "RangeIndex: 39098 entries, 0 to 39097\n",
            "Data columns (total 12 columns):\n",
            " #   Column                      Non-Null Count  Dtype  \n",
            "---  ------                      --------------  -----  \n",
            " 0   id                          39098 non-null  int64  \n",
            " 1   person_age                  39098 non-null  int64  \n",
            " 2   person_income               39098 non-null  int64  \n",
            " 3   person_home_ownership       39098 non-null  object \n",
            " 4   person_emp_length           39098 non-null  float64\n",
            " 5   loan_intent                 39098 non-null  object \n",
            " 6   loan_grade                  39098 non-null  object \n",
            " 7   loan_amnt                   39098 non-null  int64  \n",
            " 8   loan_int_rate               39098 non-null  float64\n",
            " 9   loan_percent_income         39098 non-null  float64\n",
            " 10  cb_person_default_on_file   39098 non-null  object \n",
            " 11  cb_person_cred_hist_length  39098 non-null  int64  \n",
            "dtypes: float64(3), int64(5), object(4)\n",
            "memory usage: 3.6+ MB\n"
          ]
        }
      ],
      "source": [
        "dt.info()"
      ]
    },
    {
      "cell_type": "markdown",
      "metadata": {
        "id": "ntGpbsBg8hft"
      },
      "source": [
        "## Sample Submission File"
      ]
    },
    {
      "cell_type": "code",
      "execution_count": 45,
      "metadata": {
        "id": "-5Dwtw_w3U8W"
      },
      "outputs": [],
      "source": [
        "sample_submission_url ='https://github.com/robitussin/CCMACLRL_EXERCISES/blob/main/datasets/loan_approval/sample_submission.csv?raw=true'\n",
        "\n",
        "sf=pd.read_csv(sample_submission_url)"
      ]
    },
    {
      "cell_type": "code",
      "execution_count": 46,
      "metadata": {
        "colab": {
          "base_uri": "https://localhost:8080/"
        },
        "id": "K1_62qZBqLjV",
        "outputId": "05ebcb16-bdf0-42ef-d248-ceab418a8273"
      },
      "outputs": [
        {
          "output_type": "stream",
          "name": "stdout",
          "text": [
            "<class 'pandas.core.frame.DataFrame'>\n",
            "RangeIndex: 39098 entries, 0 to 39097\n",
            "Data columns (total 2 columns):\n",
            " #   Column       Non-Null Count  Dtype  \n",
            "---  ------       --------------  -----  \n",
            " 0   id           39098 non-null  int64  \n",
            " 1   loan_status  39098 non-null  float64\n",
            "dtypes: float64(1), int64(1)\n",
            "memory usage: 611.0 KB\n"
          ]
        }
      ],
      "source": [
        "sf.info()"
      ]
    },
    {
      "cell_type": "markdown",
      "metadata": {
        "id": "7nNjd6aErISr"
      },
      "source": []
    },
    {
      "cell_type": "code",
      "execution_count": 47,
      "metadata": {
        "colab": {
          "base_uri": "https://localhost:8080/"
        },
        "id": "DtqJH7yPrHSm",
        "outputId": "8bd331b3-44bb-4dbc-bb94-2bb1d1e71475"
      },
      "outputs": [
        {
          "output_type": "stream",
          "name": "stdout",
          "text": [
            "<class 'pandas.core.frame.DataFrame'>\n",
            "RangeIndex: 58645 entries, 0 to 58644\n",
            "Data columns (total 13 columns):\n",
            " #   Column                      Non-Null Count  Dtype  \n",
            "---  ------                      --------------  -----  \n",
            " 0   id                          58645 non-null  int64  \n",
            " 1   person_age                  58645 non-null  int64  \n",
            " 2   person_income               58645 non-null  int64  \n",
            " 3   person_home_ownership       58645 non-null  object \n",
            " 4   person_emp_length           58645 non-null  float64\n",
            " 5   loan_intent                 58645 non-null  object \n",
            " 6   loan_grade                  58645 non-null  object \n",
            " 7   loan_amnt                   58645 non-null  int64  \n",
            " 8   loan_int_rate               58645 non-null  float64\n",
            " 9   loan_percent_income         58645 non-null  float64\n",
            " 10  cb_person_default_on_file   58645 non-null  object \n",
            " 11  cb_person_cred_hist_length  58645 non-null  int64  \n",
            " 12  loan_status                 58645 non-null  int64  \n",
            "dtypes: float64(3), int64(6), object(4)\n",
            "memory usage: 5.8+ MB\n"
          ]
        }
      ],
      "source": [
        "df.info()"
      ]
    },
    {
      "cell_type": "code",
      "execution_count": 48,
      "metadata": {
        "colab": {
          "base_uri": "https://localhost:8080/",
          "height": 226
        },
        "id": "zR8_VI4GiDjT",
        "outputId": "c58d39e1-f9fe-4f76-bf4a-6a50c3bbec4f"
      },
      "outputs": [
        {
          "output_type": "execute_result",
          "data": {
            "text/plain": [
              "   id  person_age  person_income person_home_ownership  person_emp_length  \\\n",
              "0   0          37          35000                  RENT                0.0   \n",
              "1   1          22          56000                   OWN                6.0   \n",
              "2   2          29          28800                   OWN                8.0   \n",
              "3   3          30          70000                  RENT               14.0   \n",
              "4   4          22          60000                  RENT                2.0   \n",
              "\n",
              "  loan_intent loan_grade  loan_amnt  loan_int_rate  loan_percent_income  \\\n",
              "0   EDUCATION          B       6000          11.49                 0.17   \n",
              "1     MEDICAL          C       4000          13.35                 0.07   \n",
              "2    PERSONAL          A       6000           8.90                 0.21   \n",
              "3     VENTURE          B      12000          11.11                 0.17   \n",
              "4     MEDICAL          A       6000           6.92                 0.10   \n",
              "\n",
              "  cb_person_default_on_file  cb_person_cred_hist_length  loan_status  \n",
              "0                         N                          14            0  \n",
              "1                         N                           2            0  \n",
              "2                         N                          10            0  \n",
              "3                         N                           5            0  \n",
              "4                         N                           3            0  "
            ],
            "text/html": [
              "\n",
              "  <div id=\"df-b0c6eb84-c6c1-4c02-9ead-7e08d0251d3f\" class=\"colab-df-container\">\n",
              "    <div>\n",
              "<style scoped>\n",
              "    .dataframe tbody tr th:only-of-type {\n",
              "        vertical-align: middle;\n",
              "    }\n",
              "\n",
              "    .dataframe tbody tr th {\n",
              "        vertical-align: top;\n",
              "    }\n",
              "\n",
              "    .dataframe thead th {\n",
              "        text-align: right;\n",
              "    }\n",
              "</style>\n",
              "<table border=\"1\" class=\"dataframe\">\n",
              "  <thead>\n",
              "    <tr style=\"text-align: right;\">\n",
              "      <th></th>\n",
              "      <th>id</th>\n",
              "      <th>person_age</th>\n",
              "      <th>person_income</th>\n",
              "      <th>person_home_ownership</th>\n",
              "      <th>person_emp_length</th>\n",
              "      <th>loan_intent</th>\n",
              "      <th>loan_grade</th>\n",
              "      <th>loan_amnt</th>\n",
              "      <th>loan_int_rate</th>\n",
              "      <th>loan_percent_income</th>\n",
              "      <th>cb_person_default_on_file</th>\n",
              "      <th>cb_person_cred_hist_length</th>\n",
              "      <th>loan_status</th>\n",
              "    </tr>\n",
              "  </thead>\n",
              "  <tbody>\n",
              "    <tr>\n",
              "      <th>0</th>\n",
              "      <td>0</td>\n",
              "      <td>37</td>\n",
              "      <td>35000</td>\n",
              "      <td>RENT</td>\n",
              "      <td>0.0</td>\n",
              "      <td>EDUCATION</td>\n",
              "      <td>B</td>\n",
              "      <td>6000</td>\n",
              "      <td>11.49</td>\n",
              "      <td>0.17</td>\n",
              "      <td>N</td>\n",
              "      <td>14</td>\n",
              "      <td>0</td>\n",
              "    </tr>\n",
              "    <tr>\n",
              "      <th>1</th>\n",
              "      <td>1</td>\n",
              "      <td>22</td>\n",
              "      <td>56000</td>\n",
              "      <td>OWN</td>\n",
              "      <td>6.0</td>\n",
              "      <td>MEDICAL</td>\n",
              "      <td>C</td>\n",
              "      <td>4000</td>\n",
              "      <td>13.35</td>\n",
              "      <td>0.07</td>\n",
              "      <td>N</td>\n",
              "      <td>2</td>\n",
              "      <td>0</td>\n",
              "    </tr>\n",
              "    <tr>\n",
              "      <th>2</th>\n",
              "      <td>2</td>\n",
              "      <td>29</td>\n",
              "      <td>28800</td>\n",
              "      <td>OWN</td>\n",
              "      <td>8.0</td>\n",
              "      <td>PERSONAL</td>\n",
              "      <td>A</td>\n",
              "      <td>6000</td>\n",
              "      <td>8.90</td>\n",
              "      <td>0.21</td>\n",
              "      <td>N</td>\n",
              "      <td>10</td>\n",
              "      <td>0</td>\n",
              "    </tr>\n",
              "    <tr>\n",
              "      <th>3</th>\n",
              "      <td>3</td>\n",
              "      <td>30</td>\n",
              "      <td>70000</td>\n",
              "      <td>RENT</td>\n",
              "      <td>14.0</td>\n",
              "      <td>VENTURE</td>\n",
              "      <td>B</td>\n",
              "      <td>12000</td>\n",
              "      <td>11.11</td>\n",
              "      <td>0.17</td>\n",
              "      <td>N</td>\n",
              "      <td>5</td>\n",
              "      <td>0</td>\n",
              "    </tr>\n",
              "    <tr>\n",
              "      <th>4</th>\n",
              "      <td>4</td>\n",
              "      <td>22</td>\n",
              "      <td>60000</td>\n",
              "      <td>RENT</td>\n",
              "      <td>2.0</td>\n",
              "      <td>MEDICAL</td>\n",
              "      <td>A</td>\n",
              "      <td>6000</td>\n",
              "      <td>6.92</td>\n",
              "      <td>0.10</td>\n",
              "      <td>N</td>\n",
              "      <td>3</td>\n",
              "      <td>0</td>\n",
              "    </tr>\n",
              "  </tbody>\n",
              "</table>\n",
              "</div>\n",
              "    <div class=\"colab-df-buttons\">\n",
              "\n",
              "  <div class=\"colab-df-container\">\n",
              "    <button class=\"colab-df-convert\" onclick=\"convertToInteractive('df-b0c6eb84-c6c1-4c02-9ead-7e08d0251d3f')\"\n",
              "            title=\"Convert this dataframe to an interactive table.\"\n",
              "            style=\"display:none;\">\n",
              "\n",
              "  <svg xmlns=\"http://www.w3.org/2000/svg\" height=\"24px\" viewBox=\"0 -960 960 960\">\n",
              "    <path d=\"M120-120v-720h720v720H120Zm60-500h600v-160H180v160Zm220 220h160v-160H400v160Zm0 220h160v-160H400v160ZM180-400h160v-160H180v160Zm440 0h160v-160H620v160ZM180-180h160v-160H180v160Zm440 0h160v-160H620v160Z\"/>\n",
              "  </svg>\n",
              "    </button>\n",
              "\n",
              "  <style>\n",
              "    .colab-df-container {\n",
              "      display:flex;\n",
              "      gap: 12px;\n",
              "    }\n",
              "\n",
              "    .colab-df-convert {\n",
              "      background-color: #E8F0FE;\n",
              "      border: none;\n",
              "      border-radius: 50%;\n",
              "      cursor: pointer;\n",
              "      display: none;\n",
              "      fill: #1967D2;\n",
              "      height: 32px;\n",
              "      padding: 0 0 0 0;\n",
              "      width: 32px;\n",
              "    }\n",
              "\n",
              "    .colab-df-convert:hover {\n",
              "      background-color: #E2EBFA;\n",
              "      box-shadow: 0px 1px 2px rgba(60, 64, 67, 0.3), 0px 1px 3px 1px rgba(60, 64, 67, 0.15);\n",
              "      fill: #174EA6;\n",
              "    }\n",
              "\n",
              "    .colab-df-buttons div {\n",
              "      margin-bottom: 4px;\n",
              "    }\n",
              "\n",
              "    [theme=dark] .colab-df-convert {\n",
              "      background-color: #3B4455;\n",
              "      fill: #D2E3FC;\n",
              "    }\n",
              "\n",
              "    [theme=dark] .colab-df-convert:hover {\n",
              "      background-color: #434B5C;\n",
              "      box-shadow: 0px 1px 3px 1px rgba(0, 0, 0, 0.15);\n",
              "      filter: drop-shadow(0px 1px 2px rgba(0, 0, 0, 0.3));\n",
              "      fill: #FFFFFF;\n",
              "    }\n",
              "  </style>\n",
              "\n",
              "    <script>\n",
              "      const buttonEl =\n",
              "        document.querySelector('#df-b0c6eb84-c6c1-4c02-9ead-7e08d0251d3f button.colab-df-convert');\n",
              "      buttonEl.style.display =\n",
              "        google.colab.kernel.accessAllowed ? 'block' : 'none';\n",
              "\n",
              "      async function convertToInteractive(key) {\n",
              "        const element = document.querySelector('#df-b0c6eb84-c6c1-4c02-9ead-7e08d0251d3f');\n",
              "        const dataTable =\n",
              "          await google.colab.kernel.invokeFunction('convertToInteractive',\n",
              "                                                    [key], {});\n",
              "        if (!dataTable) return;\n",
              "\n",
              "        const docLinkHtml = 'Like what you see? Visit the ' +\n",
              "          '<a target=\"_blank\" href=https://colab.research.google.com/notebooks/data_table.ipynb>data table notebook</a>'\n",
              "          + ' to learn more about interactive tables.';\n",
              "        element.innerHTML = '';\n",
              "        dataTable['output_type'] = 'display_data';\n",
              "        await google.colab.output.renderOutput(dataTable, element);\n",
              "        const docLink = document.createElement('div');\n",
              "        docLink.innerHTML = docLinkHtml;\n",
              "        element.appendChild(docLink);\n",
              "      }\n",
              "    </script>\n",
              "  </div>\n",
              "\n",
              "\n",
              "<div id=\"df-0a9663a3-3617-4896-8d29-03b2765863b5\">\n",
              "  <button class=\"colab-df-quickchart\" onclick=\"quickchart('df-0a9663a3-3617-4896-8d29-03b2765863b5')\"\n",
              "            title=\"Suggest charts\"\n",
              "            style=\"display:none;\">\n",
              "\n",
              "<svg xmlns=\"http://www.w3.org/2000/svg\" height=\"24px\"viewBox=\"0 0 24 24\"\n",
              "     width=\"24px\">\n",
              "    <g>\n",
              "        <path d=\"M19 3H5c-1.1 0-2 .9-2 2v14c0 1.1.9 2 2 2h14c1.1 0 2-.9 2-2V5c0-1.1-.9-2-2-2zM9 17H7v-7h2v7zm4 0h-2V7h2v10zm4 0h-2v-4h2v4z\"/>\n",
              "    </g>\n",
              "</svg>\n",
              "  </button>\n",
              "\n",
              "<style>\n",
              "  .colab-df-quickchart {\n",
              "      --bg-color: #E8F0FE;\n",
              "      --fill-color: #1967D2;\n",
              "      --hover-bg-color: #E2EBFA;\n",
              "      --hover-fill-color: #174EA6;\n",
              "      --disabled-fill-color: #AAA;\n",
              "      --disabled-bg-color: #DDD;\n",
              "  }\n",
              "\n",
              "  [theme=dark] .colab-df-quickchart {\n",
              "      --bg-color: #3B4455;\n",
              "      --fill-color: #D2E3FC;\n",
              "      --hover-bg-color: #434B5C;\n",
              "      --hover-fill-color: #FFFFFF;\n",
              "      --disabled-bg-color: #3B4455;\n",
              "      --disabled-fill-color: #666;\n",
              "  }\n",
              "\n",
              "  .colab-df-quickchart {\n",
              "    background-color: var(--bg-color);\n",
              "    border: none;\n",
              "    border-radius: 50%;\n",
              "    cursor: pointer;\n",
              "    display: none;\n",
              "    fill: var(--fill-color);\n",
              "    height: 32px;\n",
              "    padding: 0;\n",
              "    width: 32px;\n",
              "  }\n",
              "\n",
              "  .colab-df-quickchart:hover {\n",
              "    background-color: var(--hover-bg-color);\n",
              "    box-shadow: 0 1px 2px rgba(60, 64, 67, 0.3), 0 1px 3px 1px rgba(60, 64, 67, 0.15);\n",
              "    fill: var(--button-hover-fill-color);\n",
              "  }\n",
              "\n",
              "  .colab-df-quickchart-complete:disabled,\n",
              "  .colab-df-quickchart-complete:disabled:hover {\n",
              "    background-color: var(--disabled-bg-color);\n",
              "    fill: var(--disabled-fill-color);\n",
              "    box-shadow: none;\n",
              "  }\n",
              "\n",
              "  .colab-df-spinner {\n",
              "    border: 2px solid var(--fill-color);\n",
              "    border-color: transparent;\n",
              "    border-bottom-color: var(--fill-color);\n",
              "    animation:\n",
              "      spin 1s steps(1) infinite;\n",
              "  }\n",
              "\n",
              "  @keyframes spin {\n",
              "    0% {\n",
              "      border-color: transparent;\n",
              "      border-bottom-color: var(--fill-color);\n",
              "      border-left-color: var(--fill-color);\n",
              "    }\n",
              "    20% {\n",
              "      border-color: transparent;\n",
              "      border-left-color: var(--fill-color);\n",
              "      border-top-color: var(--fill-color);\n",
              "    }\n",
              "    30% {\n",
              "      border-color: transparent;\n",
              "      border-left-color: var(--fill-color);\n",
              "      border-top-color: var(--fill-color);\n",
              "      border-right-color: var(--fill-color);\n",
              "    }\n",
              "    40% {\n",
              "      border-color: transparent;\n",
              "      border-right-color: var(--fill-color);\n",
              "      border-top-color: var(--fill-color);\n",
              "    }\n",
              "    60% {\n",
              "      border-color: transparent;\n",
              "      border-right-color: var(--fill-color);\n",
              "    }\n",
              "    80% {\n",
              "      border-color: transparent;\n",
              "      border-right-color: var(--fill-color);\n",
              "      border-bottom-color: var(--fill-color);\n",
              "    }\n",
              "    90% {\n",
              "      border-color: transparent;\n",
              "      border-bottom-color: var(--fill-color);\n",
              "    }\n",
              "  }\n",
              "</style>\n",
              "\n",
              "  <script>\n",
              "    async function quickchart(key) {\n",
              "      const quickchartButtonEl =\n",
              "        document.querySelector('#' + key + ' button');\n",
              "      quickchartButtonEl.disabled = true;  // To prevent multiple clicks.\n",
              "      quickchartButtonEl.classList.add('colab-df-spinner');\n",
              "      try {\n",
              "        const charts = await google.colab.kernel.invokeFunction(\n",
              "            'suggestCharts', [key], {});\n",
              "      } catch (error) {\n",
              "        console.error('Error during call to suggestCharts:', error);\n",
              "      }\n",
              "      quickchartButtonEl.classList.remove('colab-df-spinner');\n",
              "      quickchartButtonEl.classList.add('colab-df-quickchart-complete');\n",
              "    }\n",
              "    (() => {\n",
              "      let quickchartButtonEl =\n",
              "        document.querySelector('#df-0a9663a3-3617-4896-8d29-03b2765863b5 button');\n",
              "      quickchartButtonEl.style.display =\n",
              "        google.colab.kernel.accessAllowed ? 'block' : 'none';\n",
              "    })();\n",
              "  </script>\n",
              "</div>\n",
              "\n",
              "    </div>\n",
              "  </div>\n"
            ],
            "application/vnd.google.colaboratory.intrinsic+json": {
              "type": "dataframe",
              "variable_name": "df",
              "summary": "{\n  \"name\": \"df\",\n  \"rows\": 58645,\n  \"fields\": [\n    {\n      \"column\": \"id\",\n      \"properties\": {\n        \"dtype\": \"number\",\n        \"std\": 16929,\n        \"min\": 0,\n        \"max\": 58644,\n        \"num_unique_values\": 58645,\n        \"samples\": [\n          4657,\n          56440,\n          42117\n        ],\n        \"semantic_type\": \"\",\n        \"description\": \"\"\n      }\n    },\n    {\n      \"column\": \"person_age\",\n      \"properties\": {\n        \"dtype\": \"number\",\n        \"std\": 6,\n        \"min\": 20,\n        \"max\": 123,\n        \"num_unique_values\": 53,\n        \"samples\": [\n          48,\n          62,\n          69\n        ],\n        \"semantic_type\": \"\",\n        \"description\": \"\"\n      }\n    },\n    {\n      \"column\": \"person_income\",\n      \"properties\": {\n        \"dtype\": \"number\",\n        \"std\": 37931,\n        \"min\": 4200,\n        \"max\": 1900000,\n        \"num_unique_values\": 2641,\n        \"samples\": [\n          57110,\n          31200,\n          45378\n        ],\n        \"semantic_type\": \"\",\n        \"description\": \"\"\n      }\n    },\n    {\n      \"column\": \"person_home_ownership\",\n      \"properties\": {\n        \"dtype\": \"category\",\n        \"num_unique_values\": 4,\n        \"samples\": [\n          \"OWN\",\n          \"OTHER\",\n          \"RENT\"\n        ],\n        \"semantic_type\": \"\",\n        \"description\": \"\"\n      }\n    },\n    {\n      \"column\": \"person_emp_length\",\n      \"properties\": {\n        \"dtype\": \"number\",\n        \"std\": 3.9597843444189302,\n        \"min\": 0.0,\n        \"max\": 123.0,\n        \"num_unique_values\": 36,\n        \"samples\": [\n          39.0,\n          4.0,\n          25.0\n        ],\n        \"semantic_type\": \"\",\n        \"description\": \"\"\n      }\n    },\n    {\n      \"column\": \"loan_intent\",\n      \"properties\": {\n        \"dtype\": \"category\",\n        \"num_unique_values\": 6,\n        \"samples\": [\n          \"EDUCATION\",\n          \"MEDICAL\",\n          \"HOMEIMPROVEMENT\"\n        ],\n        \"semantic_type\": \"\",\n        \"description\": \"\"\n      }\n    },\n    {\n      \"column\": \"loan_grade\",\n      \"properties\": {\n        \"dtype\": \"category\",\n        \"num_unique_values\": 7,\n        \"samples\": [\n          \"B\",\n          \"C\",\n          \"F\"\n        ],\n        \"semantic_type\": \"\",\n        \"description\": \"\"\n      }\n    },\n    {\n      \"column\": \"loan_amnt\",\n      \"properties\": {\n        \"dtype\": \"number\",\n        \"std\": 5563,\n        \"min\": 500,\n        \"max\": 35000,\n        \"num_unique_values\": 545,\n        \"samples\": [\n          1275,\n          6600,\n          11600\n        ],\n        \"semantic_type\": \"\",\n        \"description\": \"\"\n      }\n    },\n    {\n      \"column\": \"loan_int_rate\",\n      \"properties\": {\n        \"dtype\": \"number\",\n        \"std\": 3.0346972031377084,\n        \"min\": 5.42,\n        \"max\": 23.22,\n        \"num_unique_values\": 362,\n        \"samples\": [\n          11.97,\n          7.49,\n          14.11\n        ],\n        \"semantic_type\": \"\",\n        \"description\": \"\"\n      }\n    },\n    {\n      \"column\": \"loan_percent_income\",\n      \"properties\": {\n        \"dtype\": \"number\",\n        \"std\": 0.09169179303584088,\n        \"min\": 0.0,\n        \"max\": 0.83,\n        \"num_unique_values\": 61,\n        \"samples\": [\n          0.17,\n          0.27,\n          0.51\n        ],\n        \"semantic_type\": \"\",\n        \"description\": \"\"\n      }\n    },\n    {\n      \"column\": \"cb_person_default_on_file\",\n      \"properties\": {\n        \"dtype\": \"category\",\n        \"num_unique_values\": 2,\n        \"samples\": [\n          \"Y\",\n          \"N\"\n        ],\n        \"semantic_type\": \"\",\n        \"description\": \"\"\n      }\n    },\n    {\n      \"column\": \"cb_person_cred_hist_length\",\n      \"properties\": {\n        \"dtype\": \"number\",\n        \"std\": 4,\n        \"min\": 2,\n        \"max\": 30,\n        \"num_unique_values\": 29,\n        \"samples\": [\n          25,\n          23\n        ],\n        \"semantic_type\": \"\",\n        \"description\": \"\"\n      }\n    },\n    {\n      \"column\": \"loan_status\",\n      \"properties\": {\n        \"dtype\": \"number\",\n        \"std\": 0,\n        \"min\": 0,\n        \"max\": 1,\n        \"num_unique_values\": 2,\n        \"samples\": [\n          1,\n          0\n        ],\n        \"semantic_type\": \"\",\n        \"description\": \"\"\n      }\n    }\n  ]\n}"
            }
          },
          "metadata": {},
          "execution_count": 48
        }
      ],
      "source": [
        "df.head()"
      ]
    },
    {
      "cell_type": "code",
      "execution_count": 49,
      "metadata": {
        "colab": {
          "base_uri": "https://localhost:8080/",
          "height": 178
        },
        "id": "7Sv0mezHhacs",
        "outputId": "150f835c-4911-477f-d464-a9e07770df3f"
      },
      "outputs": [
        {
          "output_type": "execute_result",
          "data": {
            "text/plain": [
              "loan_status\n",
              "0    50295\n",
              "1     8350\n",
              "Name: count, dtype: int64"
            ],
            "text/html": [
              "<div>\n",
              "<style scoped>\n",
              "    .dataframe tbody tr th:only-of-type {\n",
              "        vertical-align: middle;\n",
              "    }\n",
              "\n",
              "    .dataframe tbody tr th {\n",
              "        vertical-align: top;\n",
              "    }\n",
              "\n",
              "    .dataframe thead th {\n",
              "        text-align: right;\n",
              "    }\n",
              "</style>\n",
              "<table border=\"1\" class=\"dataframe\">\n",
              "  <thead>\n",
              "    <tr style=\"text-align: right;\">\n",
              "      <th></th>\n",
              "      <th>count</th>\n",
              "    </tr>\n",
              "    <tr>\n",
              "      <th>loan_status</th>\n",
              "      <th></th>\n",
              "    </tr>\n",
              "  </thead>\n",
              "  <tbody>\n",
              "    <tr>\n",
              "      <th>0</th>\n",
              "      <td>50295</td>\n",
              "    </tr>\n",
              "    <tr>\n",
              "      <th>1</th>\n",
              "      <td>8350</td>\n",
              "    </tr>\n",
              "  </tbody>\n",
              "</table>\n",
              "</div><br><label><b>dtype:</b> int64</label>"
            ]
          },
          "metadata": {},
          "execution_count": 49
        }
      ],
      "source": [
        "df['loan_status'].value_counts()"
      ]
    },
    {
      "cell_type": "code",
      "execution_count": 50,
      "metadata": {
        "id": "ioR1V0kghn0M"
      },
      "outputs": [],
      "source": [
        "df['person_home_ownership'] = df['person_home_ownership'].map({\"RENT\" : 1 , \"OWN\" : 0})\n",
        "df['loan_intent'] = df['loan_intent'].map({\"PERSONAL\" : 1 , \"MORTGAGE\" : 2 , \"MEDICAL\" : 3, \"VENTURE\" : 4, \"EDUCATION\" : 5})\n",
        "df['loan_grade'] = df['loan_grade'].map({\"A\" : 1 , \"B\" : 2 , \"C\" : 3, \"D\" : 4, \"E\" : 5})\n",
        "df['cb_person_default_on_file'] = df['cb_person_default_on_file'].map({\"Y\" : 1 , \"N\" : 0})"
      ]
    },
    {
      "cell_type": "code",
      "execution_count": 51,
      "metadata": {
        "colab": {
          "base_uri": "https://localhost:8080/",
          "height": 492
        },
        "id": "2ACooO7qjPyz",
        "outputId": "46f22b8a-9fab-4c0e-a10f-eb0d40c4d6e2"
      },
      "outputs": [
        {
          "output_type": "execute_result",
          "data": {
            "text/plain": [
              "id                                0\n",
              "person_age                        0\n",
              "person_income                     0\n",
              "person_home_ownership         24913\n",
              "person_emp_length                 0\n",
              "loan_intent                   15413\n",
              "loan_grade                      182\n",
              "loan_amnt                         0\n",
              "loan_int_rate                     0\n",
              "loan_percent_income               0\n",
              "cb_person_default_on_file         0\n",
              "cb_person_cred_hist_length        0\n",
              "loan_status                       0\n",
              "dtype: int64"
            ],
            "text/html": [
              "<div>\n",
              "<style scoped>\n",
              "    .dataframe tbody tr th:only-of-type {\n",
              "        vertical-align: middle;\n",
              "    }\n",
              "\n",
              "    .dataframe tbody tr th {\n",
              "        vertical-align: top;\n",
              "    }\n",
              "\n",
              "    .dataframe thead th {\n",
              "        text-align: right;\n",
              "    }\n",
              "</style>\n",
              "<table border=\"1\" class=\"dataframe\">\n",
              "  <thead>\n",
              "    <tr style=\"text-align: right;\">\n",
              "      <th></th>\n",
              "      <th>0</th>\n",
              "    </tr>\n",
              "  </thead>\n",
              "  <tbody>\n",
              "    <tr>\n",
              "      <th>id</th>\n",
              "      <td>0</td>\n",
              "    </tr>\n",
              "    <tr>\n",
              "      <th>person_age</th>\n",
              "      <td>0</td>\n",
              "    </tr>\n",
              "    <tr>\n",
              "      <th>person_income</th>\n",
              "      <td>0</td>\n",
              "    </tr>\n",
              "    <tr>\n",
              "      <th>person_home_ownership</th>\n",
              "      <td>24913</td>\n",
              "    </tr>\n",
              "    <tr>\n",
              "      <th>person_emp_length</th>\n",
              "      <td>0</td>\n",
              "    </tr>\n",
              "    <tr>\n",
              "      <th>loan_intent</th>\n",
              "      <td>15413</td>\n",
              "    </tr>\n",
              "    <tr>\n",
              "      <th>loan_grade</th>\n",
              "      <td>182</td>\n",
              "    </tr>\n",
              "    <tr>\n",
              "      <th>loan_amnt</th>\n",
              "      <td>0</td>\n",
              "    </tr>\n",
              "    <tr>\n",
              "      <th>loan_int_rate</th>\n",
              "      <td>0</td>\n",
              "    </tr>\n",
              "    <tr>\n",
              "      <th>loan_percent_income</th>\n",
              "      <td>0</td>\n",
              "    </tr>\n",
              "    <tr>\n",
              "      <th>cb_person_default_on_file</th>\n",
              "      <td>0</td>\n",
              "    </tr>\n",
              "    <tr>\n",
              "      <th>cb_person_cred_hist_length</th>\n",
              "      <td>0</td>\n",
              "    </tr>\n",
              "    <tr>\n",
              "      <th>loan_status</th>\n",
              "      <td>0</td>\n",
              "    </tr>\n",
              "  </tbody>\n",
              "</table>\n",
              "</div><br><label><b>dtype:</b> int64</label>"
            ]
          },
          "metadata": {},
          "execution_count": 51
        }
      ],
      "source": [
        "df.isnull().sum()"
      ]
    },
    {
      "cell_type": "code",
      "execution_count": 52,
      "metadata": {
        "id": "B7cgz6_SjXnD"
      },
      "outputs": [],
      "source": [
        "columns_with_null = ['person_home_ownership', 'loan_intent', 'loan_grade']\n",
        "for column in columns_with_null:\n",
        "    df['person_home_ownership'] = df['person_home_ownership'].fillna(df['person_home_ownership'].mode()[0])\n",
        "    df['loan_intent'] = df['loan_intent'].fillna(df['loan_intent'].mode()[0])\n",
        "    df['loan_grade'] = df['loan_grade'].fillna(df['loan_grade'].mode()[0])"
      ]
    },
    {
      "cell_type": "code",
      "execution_count": 53,
      "metadata": {
        "colab": {
          "base_uri": "https://localhost:8080/",
          "height": 492
        },
        "id": "V2SnGvSdkHQz",
        "outputId": "ada2a723-deb8-4bca-c67c-98e7a8117313"
      },
      "outputs": [
        {
          "output_type": "execute_result",
          "data": {
            "text/plain": [
              "id                            0\n",
              "person_age                    0\n",
              "person_income                 0\n",
              "person_home_ownership         0\n",
              "person_emp_length             0\n",
              "loan_intent                   0\n",
              "loan_grade                    0\n",
              "loan_amnt                     0\n",
              "loan_int_rate                 0\n",
              "loan_percent_income           0\n",
              "cb_person_default_on_file     0\n",
              "cb_person_cred_hist_length    0\n",
              "loan_status                   0\n",
              "dtype: int64"
            ],
            "text/html": [
              "<div>\n",
              "<style scoped>\n",
              "    .dataframe tbody tr th:only-of-type {\n",
              "        vertical-align: middle;\n",
              "    }\n",
              "\n",
              "    .dataframe tbody tr th {\n",
              "        vertical-align: top;\n",
              "    }\n",
              "\n",
              "    .dataframe thead th {\n",
              "        text-align: right;\n",
              "    }\n",
              "</style>\n",
              "<table border=\"1\" class=\"dataframe\">\n",
              "  <thead>\n",
              "    <tr style=\"text-align: right;\">\n",
              "      <th></th>\n",
              "      <th>0</th>\n",
              "    </tr>\n",
              "  </thead>\n",
              "  <tbody>\n",
              "    <tr>\n",
              "      <th>id</th>\n",
              "      <td>0</td>\n",
              "    </tr>\n",
              "    <tr>\n",
              "      <th>person_age</th>\n",
              "      <td>0</td>\n",
              "    </tr>\n",
              "    <tr>\n",
              "      <th>person_income</th>\n",
              "      <td>0</td>\n",
              "    </tr>\n",
              "    <tr>\n",
              "      <th>person_home_ownership</th>\n",
              "      <td>0</td>\n",
              "    </tr>\n",
              "    <tr>\n",
              "      <th>person_emp_length</th>\n",
              "      <td>0</td>\n",
              "    </tr>\n",
              "    <tr>\n",
              "      <th>loan_intent</th>\n",
              "      <td>0</td>\n",
              "    </tr>\n",
              "    <tr>\n",
              "      <th>loan_grade</th>\n",
              "      <td>0</td>\n",
              "    </tr>\n",
              "    <tr>\n",
              "      <th>loan_amnt</th>\n",
              "      <td>0</td>\n",
              "    </tr>\n",
              "    <tr>\n",
              "      <th>loan_int_rate</th>\n",
              "      <td>0</td>\n",
              "    </tr>\n",
              "    <tr>\n",
              "      <th>loan_percent_income</th>\n",
              "      <td>0</td>\n",
              "    </tr>\n",
              "    <tr>\n",
              "      <th>cb_person_default_on_file</th>\n",
              "      <td>0</td>\n",
              "    </tr>\n",
              "    <tr>\n",
              "      <th>cb_person_cred_hist_length</th>\n",
              "      <td>0</td>\n",
              "    </tr>\n",
              "    <tr>\n",
              "      <th>loan_status</th>\n",
              "      <td>0</td>\n",
              "    </tr>\n",
              "  </tbody>\n",
              "</table>\n",
              "</div><br><label><b>dtype:</b> int64</label>"
            ]
          },
          "metadata": {},
          "execution_count": 53
        }
      ],
      "source": [
        "df.isnull().sum()"
      ]
    },
    {
      "cell_type": "code",
      "execution_count": 54,
      "metadata": {
        "id": "RmoKlPsZlPHy"
      },
      "outputs": [],
      "source": [
        "x = df.drop(columns = ['id', 'loan_status']).values\n",
        "y = df['loan_status'].values"
      ]
    },
    {
      "cell_type": "code",
      "execution_count": 55,
      "metadata": {
        "id": "zcgUgTC2lYta"
      },
      "outputs": [],
      "source": [
        "x_train, x_test, y_train, y_test = train_test_split(x, y, test_size = 0.3, random_state = 0)"
      ]
    },
    {
      "cell_type": "code",
      "source": [
        "df.head()"
      ],
      "metadata": {
        "colab": {
          "base_uri": "https://localhost:8080/",
          "height": 226
        },
        "id": "fMOxBBWrHAFm",
        "outputId": "eba2c62b-1f49-43f7-cc27-efbfd4352cd0"
      },
      "execution_count": 84,
      "outputs": [
        {
          "output_type": "execute_result",
          "data": {
            "text/plain": [
              "   id  person_age  person_income  person_home_ownership  person_emp_length  \\\n",
              "0   0          37          35000                    1.0                0.0   \n",
              "1   1          22          56000                    0.0                6.0   \n",
              "2   2          29          28800                    0.0                8.0   \n",
              "3   3          30          70000                    1.0               14.0   \n",
              "4   4          22          60000                    1.0                2.0   \n",
              "\n",
              "   loan_intent  loan_grade  loan_amnt  loan_int_rate  loan_percent_income  \\\n",
              "0          5.0         2.0       6000          11.49                 0.17   \n",
              "1          3.0         3.0       4000          13.35                 0.07   \n",
              "2          1.0         1.0       6000           8.90                 0.21   \n",
              "3          4.0         2.0      12000          11.11                 0.17   \n",
              "4          3.0         1.0       6000           6.92                 0.10   \n",
              "\n",
              "   cb_person_default_on_file  cb_person_cred_hist_length  loan_status  \n",
              "0                          0                          14            0  \n",
              "1                          0                           2            0  \n",
              "2                          0                          10            0  \n",
              "3                          0                           5            0  \n",
              "4                          0                           3            0  "
            ],
            "text/html": [
              "\n",
              "  <div id=\"df-84bf0fec-f059-4150-947d-d9696490b6e0\" class=\"colab-df-container\">\n",
              "    <div>\n",
              "<style scoped>\n",
              "    .dataframe tbody tr th:only-of-type {\n",
              "        vertical-align: middle;\n",
              "    }\n",
              "\n",
              "    .dataframe tbody tr th {\n",
              "        vertical-align: top;\n",
              "    }\n",
              "\n",
              "    .dataframe thead th {\n",
              "        text-align: right;\n",
              "    }\n",
              "</style>\n",
              "<table border=\"1\" class=\"dataframe\">\n",
              "  <thead>\n",
              "    <tr style=\"text-align: right;\">\n",
              "      <th></th>\n",
              "      <th>id</th>\n",
              "      <th>person_age</th>\n",
              "      <th>person_income</th>\n",
              "      <th>person_home_ownership</th>\n",
              "      <th>person_emp_length</th>\n",
              "      <th>loan_intent</th>\n",
              "      <th>loan_grade</th>\n",
              "      <th>loan_amnt</th>\n",
              "      <th>loan_int_rate</th>\n",
              "      <th>loan_percent_income</th>\n",
              "      <th>cb_person_default_on_file</th>\n",
              "      <th>cb_person_cred_hist_length</th>\n",
              "      <th>loan_status</th>\n",
              "    </tr>\n",
              "  </thead>\n",
              "  <tbody>\n",
              "    <tr>\n",
              "      <th>0</th>\n",
              "      <td>0</td>\n",
              "      <td>37</td>\n",
              "      <td>35000</td>\n",
              "      <td>1.0</td>\n",
              "      <td>0.0</td>\n",
              "      <td>5.0</td>\n",
              "      <td>2.0</td>\n",
              "      <td>6000</td>\n",
              "      <td>11.49</td>\n",
              "      <td>0.17</td>\n",
              "      <td>0</td>\n",
              "      <td>14</td>\n",
              "      <td>0</td>\n",
              "    </tr>\n",
              "    <tr>\n",
              "      <th>1</th>\n",
              "      <td>1</td>\n",
              "      <td>22</td>\n",
              "      <td>56000</td>\n",
              "      <td>0.0</td>\n",
              "      <td>6.0</td>\n",
              "      <td>3.0</td>\n",
              "      <td>3.0</td>\n",
              "      <td>4000</td>\n",
              "      <td>13.35</td>\n",
              "      <td>0.07</td>\n",
              "      <td>0</td>\n",
              "      <td>2</td>\n",
              "      <td>0</td>\n",
              "    </tr>\n",
              "    <tr>\n",
              "      <th>2</th>\n",
              "      <td>2</td>\n",
              "      <td>29</td>\n",
              "      <td>28800</td>\n",
              "      <td>0.0</td>\n",
              "      <td>8.0</td>\n",
              "      <td>1.0</td>\n",
              "      <td>1.0</td>\n",
              "      <td>6000</td>\n",
              "      <td>8.90</td>\n",
              "      <td>0.21</td>\n",
              "      <td>0</td>\n",
              "      <td>10</td>\n",
              "      <td>0</td>\n",
              "    </tr>\n",
              "    <tr>\n",
              "      <th>3</th>\n",
              "      <td>3</td>\n",
              "      <td>30</td>\n",
              "      <td>70000</td>\n",
              "      <td>1.0</td>\n",
              "      <td>14.0</td>\n",
              "      <td>4.0</td>\n",
              "      <td>2.0</td>\n",
              "      <td>12000</td>\n",
              "      <td>11.11</td>\n",
              "      <td>0.17</td>\n",
              "      <td>0</td>\n",
              "      <td>5</td>\n",
              "      <td>0</td>\n",
              "    </tr>\n",
              "    <tr>\n",
              "      <th>4</th>\n",
              "      <td>4</td>\n",
              "      <td>22</td>\n",
              "      <td>60000</td>\n",
              "      <td>1.0</td>\n",
              "      <td>2.0</td>\n",
              "      <td>3.0</td>\n",
              "      <td>1.0</td>\n",
              "      <td>6000</td>\n",
              "      <td>6.92</td>\n",
              "      <td>0.10</td>\n",
              "      <td>0</td>\n",
              "      <td>3</td>\n",
              "      <td>0</td>\n",
              "    </tr>\n",
              "  </tbody>\n",
              "</table>\n",
              "</div>\n",
              "    <div class=\"colab-df-buttons\">\n",
              "\n",
              "  <div class=\"colab-df-container\">\n",
              "    <button class=\"colab-df-convert\" onclick=\"convertToInteractive('df-84bf0fec-f059-4150-947d-d9696490b6e0')\"\n",
              "            title=\"Convert this dataframe to an interactive table.\"\n",
              "            style=\"display:none;\">\n",
              "\n",
              "  <svg xmlns=\"http://www.w3.org/2000/svg\" height=\"24px\" viewBox=\"0 -960 960 960\">\n",
              "    <path d=\"M120-120v-720h720v720H120Zm60-500h600v-160H180v160Zm220 220h160v-160H400v160Zm0 220h160v-160H400v160ZM180-400h160v-160H180v160Zm440 0h160v-160H620v160ZM180-180h160v-160H180v160Zm440 0h160v-160H620v160Z\"/>\n",
              "  </svg>\n",
              "    </button>\n",
              "\n",
              "  <style>\n",
              "    .colab-df-container {\n",
              "      display:flex;\n",
              "      gap: 12px;\n",
              "    }\n",
              "\n",
              "    .colab-df-convert {\n",
              "      background-color: #E8F0FE;\n",
              "      border: none;\n",
              "      border-radius: 50%;\n",
              "      cursor: pointer;\n",
              "      display: none;\n",
              "      fill: #1967D2;\n",
              "      height: 32px;\n",
              "      padding: 0 0 0 0;\n",
              "      width: 32px;\n",
              "    }\n",
              "\n",
              "    .colab-df-convert:hover {\n",
              "      background-color: #E2EBFA;\n",
              "      box-shadow: 0px 1px 2px rgba(60, 64, 67, 0.3), 0px 1px 3px 1px rgba(60, 64, 67, 0.15);\n",
              "      fill: #174EA6;\n",
              "    }\n",
              "\n",
              "    .colab-df-buttons div {\n",
              "      margin-bottom: 4px;\n",
              "    }\n",
              "\n",
              "    [theme=dark] .colab-df-convert {\n",
              "      background-color: #3B4455;\n",
              "      fill: #D2E3FC;\n",
              "    }\n",
              "\n",
              "    [theme=dark] .colab-df-convert:hover {\n",
              "      background-color: #434B5C;\n",
              "      box-shadow: 0px 1px 3px 1px rgba(0, 0, 0, 0.15);\n",
              "      filter: drop-shadow(0px 1px 2px rgba(0, 0, 0, 0.3));\n",
              "      fill: #FFFFFF;\n",
              "    }\n",
              "  </style>\n",
              "\n",
              "    <script>\n",
              "      const buttonEl =\n",
              "        document.querySelector('#df-84bf0fec-f059-4150-947d-d9696490b6e0 button.colab-df-convert');\n",
              "      buttonEl.style.display =\n",
              "        google.colab.kernel.accessAllowed ? 'block' : 'none';\n",
              "\n",
              "      async function convertToInteractive(key) {\n",
              "        const element = document.querySelector('#df-84bf0fec-f059-4150-947d-d9696490b6e0');\n",
              "        const dataTable =\n",
              "          await google.colab.kernel.invokeFunction('convertToInteractive',\n",
              "                                                    [key], {});\n",
              "        if (!dataTable) return;\n",
              "\n",
              "        const docLinkHtml = 'Like what you see? Visit the ' +\n",
              "          '<a target=\"_blank\" href=https://colab.research.google.com/notebooks/data_table.ipynb>data table notebook</a>'\n",
              "          + ' to learn more about interactive tables.';\n",
              "        element.innerHTML = '';\n",
              "        dataTable['output_type'] = 'display_data';\n",
              "        await google.colab.output.renderOutput(dataTable, element);\n",
              "        const docLink = document.createElement('div');\n",
              "        docLink.innerHTML = docLinkHtml;\n",
              "        element.appendChild(docLink);\n",
              "      }\n",
              "    </script>\n",
              "  </div>\n",
              "\n",
              "\n",
              "<div id=\"df-c9304c6f-29b9-4189-a902-af2d114211d5\">\n",
              "  <button class=\"colab-df-quickchart\" onclick=\"quickchart('df-c9304c6f-29b9-4189-a902-af2d114211d5')\"\n",
              "            title=\"Suggest charts\"\n",
              "            style=\"display:none;\">\n",
              "\n",
              "<svg xmlns=\"http://www.w3.org/2000/svg\" height=\"24px\"viewBox=\"0 0 24 24\"\n",
              "     width=\"24px\">\n",
              "    <g>\n",
              "        <path d=\"M19 3H5c-1.1 0-2 .9-2 2v14c0 1.1.9 2 2 2h14c1.1 0 2-.9 2-2V5c0-1.1-.9-2-2-2zM9 17H7v-7h2v7zm4 0h-2V7h2v10zm4 0h-2v-4h2v4z\"/>\n",
              "    </g>\n",
              "</svg>\n",
              "  </button>\n",
              "\n",
              "<style>\n",
              "  .colab-df-quickchart {\n",
              "      --bg-color: #E8F0FE;\n",
              "      --fill-color: #1967D2;\n",
              "      --hover-bg-color: #E2EBFA;\n",
              "      --hover-fill-color: #174EA6;\n",
              "      --disabled-fill-color: #AAA;\n",
              "      --disabled-bg-color: #DDD;\n",
              "  }\n",
              "\n",
              "  [theme=dark] .colab-df-quickchart {\n",
              "      --bg-color: #3B4455;\n",
              "      --fill-color: #D2E3FC;\n",
              "      --hover-bg-color: #434B5C;\n",
              "      --hover-fill-color: #FFFFFF;\n",
              "      --disabled-bg-color: #3B4455;\n",
              "      --disabled-fill-color: #666;\n",
              "  }\n",
              "\n",
              "  .colab-df-quickchart {\n",
              "    background-color: var(--bg-color);\n",
              "    border: none;\n",
              "    border-radius: 50%;\n",
              "    cursor: pointer;\n",
              "    display: none;\n",
              "    fill: var(--fill-color);\n",
              "    height: 32px;\n",
              "    padding: 0;\n",
              "    width: 32px;\n",
              "  }\n",
              "\n",
              "  .colab-df-quickchart:hover {\n",
              "    background-color: var(--hover-bg-color);\n",
              "    box-shadow: 0 1px 2px rgba(60, 64, 67, 0.3), 0 1px 3px 1px rgba(60, 64, 67, 0.15);\n",
              "    fill: var(--button-hover-fill-color);\n",
              "  }\n",
              "\n",
              "  .colab-df-quickchart-complete:disabled,\n",
              "  .colab-df-quickchart-complete:disabled:hover {\n",
              "    background-color: var(--disabled-bg-color);\n",
              "    fill: var(--disabled-fill-color);\n",
              "    box-shadow: none;\n",
              "  }\n",
              "\n",
              "  .colab-df-spinner {\n",
              "    border: 2px solid var(--fill-color);\n",
              "    border-color: transparent;\n",
              "    border-bottom-color: var(--fill-color);\n",
              "    animation:\n",
              "      spin 1s steps(1) infinite;\n",
              "  }\n",
              "\n",
              "  @keyframes spin {\n",
              "    0% {\n",
              "      border-color: transparent;\n",
              "      border-bottom-color: var(--fill-color);\n",
              "      border-left-color: var(--fill-color);\n",
              "    }\n",
              "    20% {\n",
              "      border-color: transparent;\n",
              "      border-left-color: var(--fill-color);\n",
              "      border-top-color: var(--fill-color);\n",
              "    }\n",
              "    30% {\n",
              "      border-color: transparent;\n",
              "      border-left-color: var(--fill-color);\n",
              "      border-top-color: var(--fill-color);\n",
              "      border-right-color: var(--fill-color);\n",
              "    }\n",
              "    40% {\n",
              "      border-color: transparent;\n",
              "      border-right-color: var(--fill-color);\n",
              "      border-top-color: var(--fill-color);\n",
              "    }\n",
              "    60% {\n",
              "      border-color: transparent;\n",
              "      border-right-color: var(--fill-color);\n",
              "    }\n",
              "    80% {\n",
              "      border-color: transparent;\n",
              "      border-right-color: var(--fill-color);\n",
              "      border-bottom-color: var(--fill-color);\n",
              "    }\n",
              "    90% {\n",
              "      border-color: transparent;\n",
              "      border-bottom-color: var(--fill-color);\n",
              "    }\n",
              "  }\n",
              "</style>\n",
              "\n",
              "  <script>\n",
              "    async function quickchart(key) {\n",
              "      const quickchartButtonEl =\n",
              "        document.querySelector('#' + key + ' button');\n",
              "      quickchartButtonEl.disabled = true;  // To prevent multiple clicks.\n",
              "      quickchartButtonEl.classList.add('colab-df-spinner');\n",
              "      try {\n",
              "        const charts = await google.colab.kernel.invokeFunction(\n",
              "            'suggestCharts', [key], {});\n",
              "      } catch (error) {\n",
              "        console.error('Error during call to suggestCharts:', error);\n",
              "      }\n",
              "      quickchartButtonEl.classList.remove('colab-df-spinner');\n",
              "      quickchartButtonEl.classList.add('colab-df-quickchart-complete');\n",
              "    }\n",
              "    (() => {\n",
              "      let quickchartButtonEl =\n",
              "        document.querySelector('#df-c9304c6f-29b9-4189-a902-af2d114211d5 button');\n",
              "      quickchartButtonEl.style.display =\n",
              "        google.colab.kernel.accessAllowed ? 'block' : 'none';\n",
              "    })();\n",
              "  </script>\n",
              "</div>\n",
              "\n",
              "    </div>\n",
              "  </div>\n"
            ],
            "application/vnd.google.colaboratory.intrinsic+json": {
              "type": "dataframe",
              "variable_name": "df",
              "summary": "{\n  \"name\": \"df\",\n  \"rows\": 58645,\n  \"fields\": [\n    {\n      \"column\": \"id\",\n      \"properties\": {\n        \"dtype\": \"number\",\n        \"std\": 16929,\n        \"min\": 0,\n        \"max\": 58644,\n        \"num_unique_values\": 58645,\n        \"samples\": [\n          4657,\n          56440,\n          42117\n        ],\n        \"semantic_type\": \"\",\n        \"description\": \"\"\n      }\n    },\n    {\n      \"column\": \"person_age\",\n      \"properties\": {\n        \"dtype\": \"number\",\n        \"std\": 6,\n        \"min\": 20,\n        \"max\": 123,\n        \"num_unique_values\": 53,\n        \"samples\": [\n          48,\n          62,\n          69\n        ],\n        \"semantic_type\": \"\",\n        \"description\": \"\"\n      }\n    },\n    {\n      \"column\": \"person_income\",\n      \"properties\": {\n        \"dtype\": \"number\",\n        \"std\": 37931,\n        \"min\": 4200,\n        \"max\": 1900000,\n        \"num_unique_values\": 2641,\n        \"samples\": [\n          57110,\n          31200,\n          45378\n        ],\n        \"semantic_type\": \"\",\n        \"description\": \"\"\n      }\n    },\n    {\n      \"column\": \"person_home_ownership\",\n      \"properties\": {\n        \"dtype\": \"number\",\n        \"std\": 0.2250469127485287,\n        \"min\": 0.0,\n        \"max\": 1.0,\n        \"num_unique_values\": 2,\n        \"samples\": [\n          0.0,\n          1.0\n        ],\n        \"semantic_type\": \"\",\n        \"description\": \"\"\n      }\n    },\n    {\n      \"column\": \"person_emp_length\",\n      \"properties\": {\n        \"dtype\": \"number\",\n        \"std\": 3.9597843444189302,\n        \"min\": 0.0,\n        \"max\": 123.0,\n        \"num_unique_values\": 36,\n        \"samples\": [\n          39.0,\n          4.0\n        ],\n        \"semantic_type\": \"\",\n        \"description\": \"\"\n      }\n    },\n    {\n      \"column\": \"loan_intent\",\n      \"properties\": {\n        \"dtype\": \"number\",\n        \"std\": 1.4643212748410266,\n        \"min\": 1.0,\n        \"max\": 5.0,\n        \"num_unique_values\": 4,\n        \"samples\": [\n          3.0,\n          4.0\n        ],\n        \"semantic_type\": \"\",\n        \"description\": \"\"\n      }\n    },\n    {\n      \"column\": \"loan_grade\",\n      \"properties\": {\n        \"dtype\": \"number\",\n        \"std\": 1.0221365950441519,\n        \"min\": 1.0,\n        \"max\": 5.0,\n        \"num_unique_values\": 5,\n        \"samples\": [\n          3.0,\n          5.0\n        ],\n        \"semantic_type\": \"\",\n        \"description\": \"\"\n      }\n    },\n    {\n      \"column\": \"loan_amnt\",\n      \"properties\": {\n        \"dtype\": \"number\",\n        \"std\": 5563,\n        \"min\": 500,\n        \"max\": 35000,\n        \"num_unique_values\": 545,\n        \"samples\": [\n          1275,\n          6600\n        ],\n        \"semantic_type\": \"\",\n        \"description\": \"\"\n      }\n    },\n    {\n      \"column\": \"loan_int_rate\",\n      \"properties\": {\n        \"dtype\": \"number\",\n        \"std\": 3.0346972031377084,\n        \"min\": 5.42,\n        \"max\": 23.22,\n        \"num_unique_values\": 362,\n        \"samples\": [\n          11.97,\n          7.49\n        ],\n        \"semantic_type\": \"\",\n        \"description\": \"\"\n      }\n    },\n    {\n      \"column\": \"loan_percent_income\",\n      \"properties\": {\n        \"dtype\": \"number\",\n        \"std\": 0.09169179303584088,\n        \"min\": 0.0,\n        \"max\": 0.83,\n        \"num_unique_values\": 61,\n        \"samples\": [\n          0.17,\n          0.27\n        ],\n        \"semantic_type\": \"\",\n        \"description\": \"\"\n      }\n    },\n    {\n      \"column\": \"cb_person_default_on_file\",\n      \"properties\": {\n        \"dtype\": \"number\",\n        \"std\": 0,\n        \"min\": 0,\n        \"max\": 1,\n        \"num_unique_values\": 2,\n        \"samples\": [\n          1,\n          0\n        ],\n        \"semantic_type\": \"\",\n        \"description\": \"\"\n      }\n    },\n    {\n      \"column\": \"cb_person_cred_hist_length\",\n      \"properties\": {\n        \"dtype\": \"number\",\n        \"std\": 4,\n        \"min\": 2,\n        \"max\": 30,\n        \"num_unique_values\": 29,\n        \"samples\": [\n          25,\n          23\n        ],\n        \"semantic_type\": \"\",\n        \"description\": \"\"\n      }\n    },\n    {\n      \"column\": \"loan_status\",\n      \"properties\": {\n        \"dtype\": \"number\",\n        \"std\": 0,\n        \"min\": 0,\n        \"max\": 1,\n        \"num_unique_values\": 2,\n        \"samples\": [\n          1,\n          0\n        ],\n        \"semantic_type\": \"\",\n        \"description\": \"\"\n      }\n    }\n  ]\n}"
            }
          },
          "metadata": {},
          "execution_count": 84
        }
      ]
    },
    {
      "cell_type": "markdown",
      "metadata": {
        "id": "19dHs7ZprqHd"
      },
      "source": [
        "## 1. Train a KNN Classifier"
      ]
    },
    {
      "cell_type": "code",
      "execution_count": 56,
      "metadata": {
        "id": "g-2h-34Enq4Y"
      },
      "outputs": [],
      "source": [
        "score_list = {}"
      ]
    },
    {
      "cell_type": "code",
      "execution_count": 57,
      "metadata": {
        "colab": {
          "base_uri": "https://localhost:8080/"
        },
        "id": "sfo3q7hjru-k",
        "outputId": "79641e89-e87d-4246-da1e-c1389ff0e3de"
      },
      "outputs": [
        {
          "output_type": "execute_result",
          "data": {
            "text/plain": [
              "0.8954757303626236"
            ]
          },
          "metadata": {},
          "execution_count": 57
        }
      ],
      "source": [
        "knn = KNeighborsClassifier(n_neighbors = 13)\n",
        "knn.fit(x_train, y_train)\n",
        "knn.score(x_test, y_test)"
      ]
    },
    {
      "cell_type": "markdown",
      "metadata": {
        "id": "lqPzPhIs0zjf"
      },
      "source": [
        "- Perform cross validation"
      ]
    },
    {
      "cell_type": "code",
      "execution_count": 58,
      "metadata": {
        "colab": {
          "base_uri": "https://localhost:8080/"
        },
        "id": "Xz-BV38o04PL",
        "outputId": "96825cf9-2a3f-4a37-ed33-b893a8a19500"
      },
      "outputs": [
        {
          "output_type": "execute_result",
          "data": {
            "text/plain": [
              "array([0.89419388, 0.89317077, 0.8953875 , 0.89351181, 0.89530224])"
            ]
          },
          "metadata": {},
          "execution_count": 58
        }
      ],
      "source": [
        "knn_scores = cross_val_score(knn, x, y, cv = 5)\n",
        "knn_scores"
      ]
    },
    {
      "cell_type": "code",
      "execution_count": 59,
      "metadata": {
        "colab": {
          "base_uri": "https://localhost:8080/"
        },
        "id": "kjGf_VUas4rM",
        "outputId": "5570a625-2c52-4f74-f597-476ad9be960e"
      },
      "outputs": [
        {
          "output_type": "stream",
          "name": "stdout",
          "text": [
            "0.89 accuracy with a standard deviation of 0.00\n"
          ]
        }
      ],
      "source": [
        "print(\"%0.2f accuracy with a standard deviation of %0.2f\" % (knn_scores.mean(), knn_scores.std()))\n",
        "score_list[\"KNN Classifier\"] = knn_scores.mean()"
      ]
    },
    {
      "cell_type": "markdown",
      "metadata": {
        "id": "9iQFaBrfzNmM"
      },
      "source": [
        "## 2. Train a Logistic Regression Classifier"
      ]
    },
    {
      "cell_type": "code",
      "execution_count": 60,
      "metadata": {
        "colab": {
          "base_uri": "https://localhost:8080/"
        },
        "id": "LaiPKRnRzN3P",
        "outputId": "a5e5d812-fece-4ef1-c8fe-a7512a859637"
      },
      "outputs": [
        {
          "output_type": "stream",
          "name": "stderr",
          "text": [
            "/usr/local/lib/python3.10/dist-packages/sklearn/linear_model/_logistic.py:469: ConvergenceWarning: lbfgs failed to converge (status=1):\n",
            "STOP: TOTAL NO. of ITERATIONS REACHED LIMIT.\n",
            "\n",
            "Increase the number of iterations (max_iter) or scale the data as shown in:\n",
            "    https://scikit-learn.org/stable/modules/preprocessing.html\n",
            "Please also refer to the documentation for alternative solver options:\n",
            "    https://scikit-learn.org/stable/modules/linear_model.html#logistic-regression\n",
            "  n_iter_i = _check_optimize_result(\n"
          ]
        }
      ],
      "source": [
        "LR = LogisticRegression()\n",
        "LR.fit(x_train, y_train)\n",
        "LR_score = LR.score(x_test, y_test)"
      ]
    },
    {
      "cell_type": "markdown",
      "metadata": {
        "id": "sj2wlK-4044w"
      },
      "source": [
        "- Perform cross validation"
      ]
    },
    {
      "cell_type": "code",
      "execution_count": 61,
      "metadata": {
        "colab": {
          "base_uri": "https://localhost:8080/"
        },
        "id": "LaPPbhEb0740",
        "outputId": "59481c6e-d464-4fda-d73f-19e712dfbdca"
      },
      "outputs": [
        {
          "output_type": "stream",
          "name": "stderr",
          "text": [
            "/usr/local/lib/python3.10/dist-packages/sklearn/linear_model/_logistic.py:469: ConvergenceWarning: lbfgs failed to converge (status=1):\n",
            "STOP: TOTAL NO. of ITERATIONS REACHED LIMIT.\n",
            "\n",
            "Increase the number of iterations (max_iter) or scale the data as shown in:\n",
            "    https://scikit-learn.org/stable/modules/preprocessing.html\n",
            "Please also refer to the documentation for alternative solver options:\n",
            "    https://scikit-learn.org/stable/modules/linear_model.html#logistic-regression\n",
            "  n_iter_i = _check_optimize_result(\n",
            "/usr/local/lib/python3.10/dist-packages/sklearn/linear_model/_logistic.py:469: ConvergenceWarning: lbfgs failed to converge (status=1):\n",
            "STOP: TOTAL NO. of ITERATIONS REACHED LIMIT.\n",
            "\n",
            "Increase the number of iterations (max_iter) or scale the data as shown in:\n",
            "    https://scikit-learn.org/stable/modules/preprocessing.html\n",
            "Please also refer to the documentation for alternative solver options:\n",
            "    https://scikit-learn.org/stable/modules/linear_model.html#logistic-regression\n",
            "  n_iter_i = _check_optimize_result(\n",
            "/usr/local/lib/python3.10/dist-packages/sklearn/linear_model/_logistic.py:469: ConvergenceWarning: lbfgs failed to converge (status=1):\n",
            "STOP: TOTAL NO. of ITERATIONS REACHED LIMIT.\n",
            "\n",
            "Increase the number of iterations (max_iter) or scale the data as shown in:\n",
            "    https://scikit-learn.org/stable/modules/preprocessing.html\n",
            "Please also refer to the documentation for alternative solver options:\n",
            "    https://scikit-learn.org/stable/modules/linear_model.html#logistic-regression\n",
            "  n_iter_i = _check_optimize_result(\n",
            "/usr/local/lib/python3.10/dist-packages/sklearn/linear_model/_logistic.py:469: ConvergenceWarning: lbfgs failed to converge (status=1):\n",
            "STOP: TOTAL NO. of ITERATIONS REACHED LIMIT.\n",
            "\n",
            "Increase the number of iterations (max_iter) or scale the data as shown in:\n",
            "    https://scikit-learn.org/stable/modules/preprocessing.html\n",
            "Please also refer to the documentation for alternative solver options:\n",
            "    https://scikit-learn.org/stable/modules/linear_model.html#logistic-regression\n",
            "  n_iter_i = _check_optimize_result(\n",
            "/usr/local/lib/python3.10/dist-packages/sklearn/linear_model/_logistic.py:469: ConvergenceWarning: lbfgs failed to converge (status=1):\n",
            "STOP: TOTAL NO. of ITERATIONS REACHED LIMIT.\n",
            "\n",
            "Increase the number of iterations (max_iter) or scale the data as shown in:\n",
            "    https://scikit-learn.org/stable/modules/preprocessing.html\n",
            "Please also refer to the documentation for alternative solver options:\n",
            "    https://scikit-learn.org/stable/modules/linear_model.html#logistic-regression\n",
            "  n_iter_i = _check_optimize_result(\n"
          ]
        },
        {
          "output_type": "execute_result",
          "data": {
            "text/plain": [
              "array([0.8817461 , 0.88072299, 0.87978515, 0.88063774, 0.88191662])"
            ]
          },
          "metadata": {},
          "execution_count": 61
        }
      ],
      "source": [
        "LR_scores = cross_val_score(LR, x, y, cv = 5)\n",
        "LR_scores"
      ]
    },
    {
      "cell_type": "code",
      "execution_count": 62,
      "metadata": {
        "colab": {
          "base_uri": "https://localhost:8080/"
        },
        "id": "YfWQ5oh8uADr",
        "outputId": "bb2a38c0-f239-440f-970f-8e61b28f20be"
      },
      "outputs": [
        {
          "output_type": "stream",
          "name": "stdout",
          "text": [
            "0.88 accuracy with a standard deviation of 0.00\n"
          ]
        }
      ],
      "source": [
        "print(\"%0.2f accuracy with a standard deviation of %0.2f\" % (LR_scores.mean(), LR_scores.std()))\n",
        "score_list[\"Logistic Regression Classifier\"] = LR_scores.mean()"
      ]
    },
    {
      "cell_type": "markdown",
      "metadata": {
        "id": "MK7R5QHszVir"
      },
      "source": [
        "## 3. Train a Naive Bayes Classifier"
      ]
    },
    {
      "cell_type": "code",
      "execution_count": 63,
      "metadata": {
        "colab": {
          "base_uri": "https://localhost:8080/"
        },
        "id": "wh3rW-_SzV1a",
        "outputId": "dd2e7fd0-d489-4baf-e06f-482412ec6c62"
      },
      "outputs": [
        {
          "output_type": "execute_result",
          "data": {
            "text/plain": [
              "0.8827441173127203"
            ]
          },
          "metadata": {},
          "execution_count": 63
        }
      ],
      "source": [
        "NBC = GaussianNB()\n",
        "NBC.fit(x_train, y_train)\n",
        "NBC.score(x_test, y_test)"
      ]
    },
    {
      "cell_type": "markdown",
      "metadata": {
        "id": "r1s7wlRE0-6r"
      },
      "source": [
        "- Perform cross validation"
      ]
    },
    {
      "cell_type": "code",
      "execution_count": 64,
      "metadata": {
        "colab": {
          "base_uri": "https://localhost:8080/"
        },
        "id": "Czj8xzAa0_Nt",
        "outputId": "9e43f35b-fcf3-4eb4-c467-0c08089a031f"
      },
      "outputs": [
        {
          "output_type": "execute_result",
          "data": {
            "text/plain": [
              "array([0.87893256, 0.88345127, 0.88191662, 0.88507119, 0.88336602])"
            ]
          },
          "metadata": {},
          "execution_count": 64
        }
      ],
      "source": [
        "NBC_scores = cross_val_score(NBC, x, y, cv = 5)\n",
        "NBC_scores"
      ]
    },
    {
      "cell_type": "code",
      "execution_count": 65,
      "metadata": {
        "colab": {
          "base_uri": "https://localhost:8080/"
        },
        "id": "12TpLytPuX-S",
        "outputId": "74422ad9-9966-4960-9b71-d6df8dbf578f"
      },
      "outputs": [
        {
          "output_type": "stream",
          "name": "stdout",
          "text": [
            "0.88 accuracy with a standard deviation of 0.00\n"
          ]
        }
      ],
      "source": [
        "print(\"%0.2f accuracy with a standard deviation of %0.2f\" % (NBC_scores.mean(), NBC_scores.std()))\n",
        "score_list[\"Naive Bayes Classifier\"] = NBC_scores.mean()"
      ]
    },
    {
      "cell_type": "markdown",
      "metadata": {
        "id": "GlMLKDF_rvUM"
      },
      "source": [
        "## 4. Train a SVM Classifier"
      ]
    },
    {
      "cell_type": "code",
      "execution_count": 66,
      "metadata": {
        "colab": {
          "base_uri": "https://localhost:8080/"
        },
        "id": "0MJX8VBysFxR",
        "outputId": "6df7adc4-e5c6-431d-9533-940c2adfd889"
      },
      "outputs": [
        {
          "output_type": "execute_result",
          "data": {
            "text/plain": [
              "0.8578492667954984"
            ]
          },
          "metadata": {},
          "execution_count": 66
        }
      ],
      "source": [
        "SVC = SVC()\n",
        "SVC.fit(x_train, y_train)\n",
        "SVC.score(x_test, y_test)"
      ]
    },
    {
      "cell_type": "markdown",
      "metadata": {
        "id": "-wzEMe9J1DSe"
      },
      "source": [
        "- Perform cross validation"
      ]
    },
    {
      "cell_type": "code",
      "execution_count": 67,
      "metadata": {
        "colab": {
          "base_uri": "https://localhost:8080/"
        },
        "id": "dPJlm2S-1Dqe",
        "outputId": "fa0c246e-df12-4270-cd41-3aff7509013c"
      },
      "outputs": [
        {
          "output_type": "execute_result",
          "data": {
            "text/plain": [
              "array([0.85761787, 0.85761787, 0.85761787, 0.85753261, 0.85761787])"
            ]
          },
          "metadata": {},
          "execution_count": 67
        }
      ],
      "source": [
        "SVC_scores = cross_val_score(SVC, x, y, cv = 5)\n",
        "SVC_scores"
      ]
    },
    {
      "cell_type": "code",
      "execution_count": 68,
      "metadata": {
        "colab": {
          "base_uri": "https://localhost:8080/"
        },
        "id": "uHn5aAhSw5Kn",
        "outputId": "aa088463-1508-4482-8ca5-1fcfc7c94c46"
      },
      "outputs": [
        {
          "output_type": "stream",
          "name": "stdout",
          "text": [
            "0.86 accuracy with a standard deviation of 0.00\n"
          ]
        }
      ],
      "source": [
        "print(\"%0.2f accuracy with a standard deviation of %0.2f\" % (SVC_scores.mean(), SVC_scores.std()))\n",
        "score_list[\"SVM Classifier\"] = SVC_scores.mean()"
      ]
    },
    {
      "cell_type": "markdown",
      "metadata": {
        "id": "8n-ScOLqze60"
      },
      "source": [
        "## 5. Train a Decision Tree Classifier"
      ]
    },
    {
      "cell_type": "code",
      "execution_count": 69,
      "metadata": {
        "id": "fqLNJkoHzfL4"
      },
      "outputs": [],
      "source": [
        "DTC = DecisionTreeClassifier(random_state = 1)\n",
        "DTC.fit(x_train, y_train)\n",
        "DTC_score = DTC.score(x_test, y_test)"
      ]
    },
    {
      "cell_type": "markdown",
      "metadata": {
        "id": "5dkFpQ2j1GUO"
      },
      "source": [
        "- Perform cross validation"
      ]
    },
    {
      "cell_type": "code",
      "execution_count": 70,
      "metadata": {
        "colab": {
          "base_uri": "https://localhost:8080/"
        },
        "id": "hOXY4nc71Gk5",
        "outputId": "db33854f-8717-4cb0-e644-5dd48615de15"
      },
      "outputs": [
        {
          "output_type": "execute_result",
          "data": {
            "text/plain": [
              "array([0.885668  , 0.88788473, 0.88745844, 0.88447438, 0.88404809])"
            ]
          },
          "metadata": {},
          "execution_count": 70
        }
      ],
      "source": [
        "DTC_scores = cross_val_score(DTC, x, y, cv = 5)\n",
        "DTC_scores"
      ]
    },
    {
      "cell_type": "code",
      "execution_count": 71,
      "metadata": {
        "colab": {
          "base_uri": "https://localhost:8080/"
        },
        "id": "rkCAZ7qBxJbA",
        "outputId": "d94a989b-a5a3-4a30-9ac8-fc7832c2a694"
      },
      "outputs": [
        {
          "output_type": "stream",
          "name": "stdout",
          "text": [
            "0.89 accuracy with a standard deviation of 0.00\n"
          ]
        }
      ],
      "source": [
        "print(\"%0.2f accuracy with a standard deviation of %0.2f\" % (DTC_scores.mean(), DTC_scores.std()))\n",
        "score_list[\"Decision Tree Classifier\"] = DTC_scores.mean()"
      ]
    },
    {
      "cell_type": "markdown",
      "metadata": {
        "id": "MkJ6eVbNsBay"
      },
      "source": [
        "## 6. Train a Random Forest Classifier"
      ]
    },
    {
      "cell_type": "code",
      "execution_count": 72,
      "metadata": {
        "id": "sjH8nHSe1GqF"
      },
      "outputs": [],
      "source": [
        "scaler = StandardScaler()\n",
        "x_train_scaled = scaler.fit_transform(x_train)\n",
        "x_test_scaled = scaler.transform(x_test)"
      ]
    },
    {
      "cell_type": "code",
      "execution_count": 73,
      "metadata": {
        "colab": {
          "base_uri": "https://localhost:8080/"
        },
        "id": "w_LoDOYHsGo2",
        "outputId": "2e35314c-2d45-4a66-893d-2a3b3c9b359c"
      },
      "outputs": [
        {
          "output_type": "stream",
          "name": "stdout",
          "text": [
            "Score is 0.858019779470274\n"
          ]
        }
      ],
      "source": [
        "RFC = RandomForestClassifier(criterion = 'gini')\n",
        "RFC.fit(x_train_scaled, y_train)\n",
        "RFC_score = RFC.score(x_test, y_test)\n",
        "score_list[\"Random Forest Classifier\"] = RFC_score\n",
        "print(f\"Score is {RFC_score}\")"
      ]
    },
    {
      "cell_type": "markdown",
      "metadata": {
        "id": "3orhk-Vf0Jg-"
      },
      "source": [
        "## 7. Compare all the performance of all classification models"
      ]
    },
    {
      "cell_type": "code",
      "execution_count": 74,
      "metadata": {
        "colab": {
          "base_uri": "https://localhost:8080/"
        },
        "id": "r5FUkgck0VY8",
        "outputId": "6cb0f211-0cd1-4469-d5de-e8b27a1d6ed7"
      },
      "outputs": [
        {
          "output_type": "stream",
          "name": "stdout",
          "text": [
            "KNN Classifier Score is 0.89 \n",
            "Logistic Regression Classifier Score is 0.88 \n",
            "Naive Bayes Classifier Score is 0.88 \n",
            "SVM Classifier Score is 0.85 \n",
            "Decision Tree Classifier Score is 0.88 \n",
            "Random Forest Classifier Score is 0.85 \n"
          ]
        }
      ],
      "source": [
        "score_list = list(score_list.items())\n",
        "for alg, score in score_list:\n",
        "    print(f\"{alg} Score is {str(score)[:4]} \")"
      ]
    },
    {
      "cell_type": "markdown",
      "metadata": {
        "id": "_ywyPMEL0J5G"
      },
      "source": [
        "The best algorithm is **Random Forest Classifier**."
      ]
    },
    {
      "cell_type": "code",
      "execution_count": 75,
      "metadata": {
        "id": "8r7g01PM32i6"
      },
      "outputs": [],
      "source": [
        "y_pred = RFC.predict(x_test)"
      ]
    },
    {
      "cell_type": "code",
      "source": [
        "df.info()"
      ],
      "metadata": {
        "colab": {
          "base_uri": "https://localhost:8080/"
        },
        "id": "4kENWVvRG6NG",
        "outputId": "aa2766d3-386d-4d1b-cf2b-f7c37d927f04"
      },
      "execution_count": 82,
      "outputs": [
        {
          "output_type": "stream",
          "name": "stdout",
          "text": [
            "<class 'pandas.core.frame.DataFrame'>\n",
            "RangeIndex: 58645 entries, 0 to 58644\n",
            "Data columns (total 13 columns):\n",
            " #   Column                      Non-Null Count  Dtype  \n",
            "---  ------                      --------------  -----  \n",
            " 0   id                          58645 non-null  int64  \n",
            " 1   person_age                  58645 non-null  int64  \n",
            " 2   person_income               58645 non-null  int64  \n",
            " 3   person_home_ownership       58645 non-null  float64\n",
            " 4   person_emp_length           58645 non-null  float64\n",
            " 5   loan_intent                 58645 non-null  float64\n",
            " 6   loan_grade                  58645 non-null  float64\n",
            " 7   loan_amnt                   58645 non-null  int64  \n",
            " 8   loan_int_rate               58645 non-null  float64\n",
            " 9   loan_percent_income         58645 non-null  float64\n",
            " 10  cb_person_default_on_file   58645 non-null  int64  \n",
            " 11  cb_person_cred_hist_length  58645 non-null  int64  \n",
            " 12  loan_status                 58645 non-null  int64  \n",
            "dtypes: float64(6), int64(7)\n",
            "memory usage: 5.8 MB\n"
          ]
        }
      ]
    },
    {
      "cell_type": "code",
      "execution_count": 76,
      "metadata": {
        "colab": {
          "base_uri": "https://localhost:8080/"
        },
        "id": "ObO5Ljhj4OGp",
        "outputId": "ed0b1311-210e-4777-a335-bf48d195f7ec"
      },
      "outputs": [
        {
          "output_type": "stream",
          "name": "stdout",
          "text": [
            "<class 'pandas.core.frame.DataFrame'>\n",
            "RangeIndex: 39098 entries, 0 to 39097\n",
            "Data columns (total 12 columns):\n",
            " #   Column                      Non-Null Count  Dtype  \n",
            "---  ------                      --------------  -----  \n",
            " 0   id                          39098 non-null  int64  \n",
            " 1   person_age                  39098 non-null  int64  \n",
            " 2   person_income               39098 non-null  int64  \n",
            " 3   person_home_ownership       39098 non-null  object \n",
            " 4   person_emp_length           39098 non-null  float64\n",
            " 5   loan_intent                 39098 non-null  object \n",
            " 6   loan_grade                  39098 non-null  object \n",
            " 7   loan_amnt                   39098 non-null  int64  \n",
            " 8   loan_int_rate               39098 non-null  float64\n",
            " 9   loan_percent_income         39098 non-null  float64\n",
            " 10  cb_person_default_on_file   39098 non-null  object \n",
            " 11  cb_person_cred_hist_length  39098 non-null  int64  \n",
            "dtypes: float64(3), int64(5), object(4)\n",
            "memory usage: 3.6+ MB\n"
          ]
        }
      ],
      "source": [
        "dt.info()"
      ]
    },
    {
      "cell_type": "code",
      "execution_count": 77,
      "metadata": {
        "colab": {
          "base_uri": "https://localhost:8080/",
          "height": 226
        },
        "id": "THbwmudm4VP6",
        "outputId": "b3617979-1e08-4df7-a9d6-95ab05fd78d7"
      },
      "outputs": [
        {
          "output_type": "execute_result",
          "data": {
            "text/plain": [
              "      id  person_age  person_income person_home_ownership  person_emp_length  \\\n",
              "0  58645          23          69000                  RENT                3.0   \n",
              "1  58646          26          96000              MORTGAGE                6.0   \n",
              "2  58647          26          30000                  RENT                5.0   \n",
              "3  58648          33          50000                  RENT                4.0   \n",
              "4  58649          26         102000              MORTGAGE                8.0   \n",
              "\n",
              "         loan_intent loan_grade  loan_amnt  loan_int_rate  \\\n",
              "0    HOMEIMPROVEMENT          F      25000          15.76   \n",
              "1           PERSONAL          C      10000          12.68   \n",
              "2            VENTURE          E       4000          17.19   \n",
              "3  DEBTCONSOLIDATION          A       7000           8.90   \n",
              "4    HOMEIMPROVEMENT          D      15000          16.32   \n",
              "\n",
              "   loan_percent_income cb_person_default_on_file  cb_person_cred_hist_length  \n",
              "0                 0.36                         N                           2  \n",
              "1                 0.10                         Y                           4  \n",
              "2                 0.13                         Y                           2  \n",
              "3                 0.14                         N                           7  \n",
              "4                 0.15                         Y                           4  "
            ],
            "text/html": [
              "\n",
              "  <div id=\"df-ea13bd71-571e-46ee-8bda-39bb621206e2\" class=\"colab-df-container\">\n",
              "    <div>\n",
              "<style scoped>\n",
              "    .dataframe tbody tr th:only-of-type {\n",
              "        vertical-align: middle;\n",
              "    }\n",
              "\n",
              "    .dataframe tbody tr th {\n",
              "        vertical-align: top;\n",
              "    }\n",
              "\n",
              "    .dataframe thead th {\n",
              "        text-align: right;\n",
              "    }\n",
              "</style>\n",
              "<table border=\"1\" class=\"dataframe\">\n",
              "  <thead>\n",
              "    <tr style=\"text-align: right;\">\n",
              "      <th></th>\n",
              "      <th>id</th>\n",
              "      <th>person_age</th>\n",
              "      <th>person_income</th>\n",
              "      <th>person_home_ownership</th>\n",
              "      <th>person_emp_length</th>\n",
              "      <th>loan_intent</th>\n",
              "      <th>loan_grade</th>\n",
              "      <th>loan_amnt</th>\n",
              "      <th>loan_int_rate</th>\n",
              "      <th>loan_percent_income</th>\n",
              "      <th>cb_person_default_on_file</th>\n",
              "      <th>cb_person_cred_hist_length</th>\n",
              "    </tr>\n",
              "  </thead>\n",
              "  <tbody>\n",
              "    <tr>\n",
              "      <th>0</th>\n",
              "      <td>58645</td>\n",
              "      <td>23</td>\n",
              "      <td>69000</td>\n",
              "      <td>RENT</td>\n",
              "      <td>3.0</td>\n",
              "      <td>HOMEIMPROVEMENT</td>\n",
              "      <td>F</td>\n",
              "      <td>25000</td>\n",
              "      <td>15.76</td>\n",
              "      <td>0.36</td>\n",
              "      <td>N</td>\n",
              "      <td>2</td>\n",
              "    </tr>\n",
              "    <tr>\n",
              "      <th>1</th>\n",
              "      <td>58646</td>\n",
              "      <td>26</td>\n",
              "      <td>96000</td>\n",
              "      <td>MORTGAGE</td>\n",
              "      <td>6.0</td>\n",
              "      <td>PERSONAL</td>\n",
              "      <td>C</td>\n",
              "      <td>10000</td>\n",
              "      <td>12.68</td>\n",
              "      <td>0.10</td>\n",
              "      <td>Y</td>\n",
              "      <td>4</td>\n",
              "    </tr>\n",
              "    <tr>\n",
              "      <th>2</th>\n",
              "      <td>58647</td>\n",
              "      <td>26</td>\n",
              "      <td>30000</td>\n",
              "      <td>RENT</td>\n",
              "      <td>5.0</td>\n",
              "      <td>VENTURE</td>\n",
              "      <td>E</td>\n",
              "      <td>4000</td>\n",
              "      <td>17.19</td>\n",
              "      <td>0.13</td>\n",
              "      <td>Y</td>\n",
              "      <td>2</td>\n",
              "    </tr>\n",
              "    <tr>\n",
              "      <th>3</th>\n",
              "      <td>58648</td>\n",
              "      <td>33</td>\n",
              "      <td>50000</td>\n",
              "      <td>RENT</td>\n",
              "      <td>4.0</td>\n",
              "      <td>DEBTCONSOLIDATION</td>\n",
              "      <td>A</td>\n",
              "      <td>7000</td>\n",
              "      <td>8.90</td>\n",
              "      <td>0.14</td>\n",
              "      <td>N</td>\n",
              "      <td>7</td>\n",
              "    </tr>\n",
              "    <tr>\n",
              "      <th>4</th>\n",
              "      <td>58649</td>\n",
              "      <td>26</td>\n",
              "      <td>102000</td>\n",
              "      <td>MORTGAGE</td>\n",
              "      <td>8.0</td>\n",
              "      <td>HOMEIMPROVEMENT</td>\n",
              "      <td>D</td>\n",
              "      <td>15000</td>\n",
              "      <td>16.32</td>\n",
              "      <td>0.15</td>\n",
              "      <td>Y</td>\n",
              "      <td>4</td>\n",
              "    </tr>\n",
              "  </tbody>\n",
              "</table>\n",
              "</div>\n",
              "    <div class=\"colab-df-buttons\">\n",
              "\n",
              "  <div class=\"colab-df-container\">\n",
              "    <button class=\"colab-df-convert\" onclick=\"convertToInteractive('df-ea13bd71-571e-46ee-8bda-39bb621206e2')\"\n",
              "            title=\"Convert this dataframe to an interactive table.\"\n",
              "            style=\"display:none;\">\n",
              "\n",
              "  <svg xmlns=\"http://www.w3.org/2000/svg\" height=\"24px\" viewBox=\"0 -960 960 960\">\n",
              "    <path d=\"M120-120v-720h720v720H120Zm60-500h600v-160H180v160Zm220 220h160v-160H400v160Zm0 220h160v-160H400v160ZM180-400h160v-160H180v160Zm440 0h160v-160H620v160ZM180-180h160v-160H180v160Zm440 0h160v-160H620v160Z\"/>\n",
              "  </svg>\n",
              "    </button>\n",
              "\n",
              "  <style>\n",
              "    .colab-df-container {\n",
              "      display:flex;\n",
              "      gap: 12px;\n",
              "    }\n",
              "\n",
              "    .colab-df-convert {\n",
              "      background-color: #E8F0FE;\n",
              "      border: none;\n",
              "      border-radius: 50%;\n",
              "      cursor: pointer;\n",
              "      display: none;\n",
              "      fill: #1967D2;\n",
              "      height: 32px;\n",
              "      padding: 0 0 0 0;\n",
              "      width: 32px;\n",
              "    }\n",
              "\n",
              "    .colab-df-convert:hover {\n",
              "      background-color: #E2EBFA;\n",
              "      box-shadow: 0px 1px 2px rgba(60, 64, 67, 0.3), 0px 1px 3px 1px rgba(60, 64, 67, 0.15);\n",
              "      fill: #174EA6;\n",
              "    }\n",
              "\n",
              "    .colab-df-buttons div {\n",
              "      margin-bottom: 4px;\n",
              "    }\n",
              "\n",
              "    [theme=dark] .colab-df-convert {\n",
              "      background-color: #3B4455;\n",
              "      fill: #D2E3FC;\n",
              "    }\n",
              "\n",
              "    [theme=dark] .colab-df-convert:hover {\n",
              "      background-color: #434B5C;\n",
              "      box-shadow: 0px 1px 3px 1px rgba(0, 0, 0, 0.15);\n",
              "      filter: drop-shadow(0px 1px 2px rgba(0, 0, 0, 0.3));\n",
              "      fill: #FFFFFF;\n",
              "    }\n",
              "  </style>\n",
              "\n",
              "    <script>\n",
              "      const buttonEl =\n",
              "        document.querySelector('#df-ea13bd71-571e-46ee-8bda-39bb621206e2 button.colab-df-convert');\n",
              "      buttonEl.style.display =\n",
              "        google.colab.kernel.accessAllowed ? 'block' : 'none';\n",
              "\n",
              "      async function convertToInteractive(key) {\n",
              "        const element = document.querySelector('#df-ea13bd71-571e-46ee-8bda-39bb621206e2');\n",
              "        const dataTable =\n",
              "          await google.colab.kernel.invokeFunction('convertToInteractive',\n",
              "                                                    [key], {});\n",
              "        if (!dataTable) return;\n",
              "\n",
              "        const docLinkHtml = 'Like what you see? Visit the ' +\n",
              "          '<a target=\"_blank\" href=https://colab.research.google.com/notebooks/data_table.ipynb>data table notebook</a>'\n",
              "          + ' to learn more about interactive tables.';\n",
              "        element.innerHTML = '';\n",
              "        dataTable['output_type'] = 'display_data';\n",
              "        await google.colab.output.renderOutput(dataTable, element);\n",
              "        const docLink = document.createElement('div');\n",
              "        docLink.innerHTML = docLinkHtml;\n",
              "        element.appendChild(docLink);\n",
              "      }\n",
              "    </script>\n",
              "  </div>\n",
              "\n",
              "\n",
              "<div id=\"df-266d3bf4-59a9-40bd-85de-71e3468ebfeb\">\n",
              "  <button class=\"colab-df-quickchart\" onclick=\"quickchart('df-266d3bf4-59a9-40bd-85de-71e3468ebfeb')\"\n",
              "            title=\"Suggest charts\"\n",
              "            style=\"display:none;\">\n",
              "\n",
              "<svg xmlns=\"http://www.w3.org/2000/svg\" height=\"24px\"viewBox=\"0 0 24 24\"\n",
              "     width=\"24px\">\n",
              "    <g>\n",
              "        <path d=\"M19 3H5c-1.1 0-2 .9-2 2v14c0 1.1.9 2 2 2h14c1.1 0 2-.9 2-2V5c0-1.1-.9-2-2-2zM9 17H7v-7h2v7zm4 0h-2V7h2v10zm4 0h-2v-4h2v4z\"/>\n",
              "    </g>\n",
              "</svg>\n",
              "  </button>\n",
              "\n",
              "<style>\n",
              "  .colab-df-quickchart {\n",
              "      --bg-color: #E8F0FE;\n",
              "      --fill-color: #1967D2;\n",
              "      --hover-bg-color: #E2EBFA;\n",
              "      --hover-fill-color: #174EA6;\n",
              "      --disabled-fill-color: #AAA;\n",
              "      --disabled-bg-color: #DDD;\n",
              "  }\n",
              "\n",
              "  [theme=dark] .colab-df-quickchart {\n",
              "      --bg-color: #3B4455;\n",
              "      --fill-color: #D2E3FC;\n",
              "      --hover-bg-color: #434B5C;\n",
              "      --hover-fill-color: #FFFFFF;\n",
              "      --disabled-bg-color: #3B4455;\n",
              "      --disabled-fill-color: #666;\n",
              "  }\n",
              "\n",
              "  .colab-df-quickchart {\n",
              "    background-color: var(--bg-color);\n",
              "    border: none;\n",
              "    border-radius: 50%;\n",
              "    cursor: pointer;\n",
              "    display: none;\n",
              "    fill: var(--fill-color);\n",
              "    height: 32px;\n",
              "    padding: 0;\n",
              "    width: 32px;\n",
              "  }\n",
              "\n",
              "  .colab-df-quickchart:hover {\n",
              "    background-color: var(--hover-bg-color);\n",
              "    box-shadow: 0 1px 2px rgba(60, 64, 67, 0.3), 0 1px 3px 1px rgba(60, 64, 67, 0.15);\n",
              "    fill: var(--button-hover-fill-color);\n",
              "  }\n",
              "\n",
              "  .colab-df-quickchart-complete:disabled,\n",
              "  .colab-df-quickchart-complete:disabled:hover {\n",
              "    background-color: var(--disabled-bg-color);\n",
              "    fill: var(--disabled-fill-color);\n",
              "    box-shadow: none;\n",
              "  }\n",
              "\n",
              "  .colab-df-spinner {\n",
              "    border: 2px solid var(--fill-color);\n",
              "    border-color: transparent;\n",
              "    border-bottom-color: var(--fill-color);\n",
              "    animation:\n",
              "      spin 1s steps(1) infinite;\n",
              "  }\n",
              "\n",
              "  @keyframes spin {\n",
              "    0% {\n",
              "      border-color: transparent;\n",
              "      border-bottom-color: var(--fill-color);\n",
              "      border-left-color: var(--fill-color);\n",
              "    }\n",
              "    20% {\n",
              "      border-color: transparent;\n",
              "      border-left-color: var(--fill-color);\n",
              "      border-top-color: var(--fill-color);\n",
              "    }\n",
              "    30% {\n",
              "      border-color: transparent;\n",
              "      border-left-color: var(--fill-color);\n",
              "      border-top-color: var(--fill-color);\n",
              "      border-right-color: var(--fill-color);\n",
              "    }\n",
              "    40% {\n",
              "      border-color: transparent;\n",
              "      border-right-color: var(--fill-color);\n",
              "      border-top-color: var(--fill-color);\n",
              "    }\n",
              "    60% {\n",
              "      border-color: transparent;\n",
              "      border-right-color: var(--fill-color);\n",
              "    }\n",
              "    80% {\n",
              "      border-color: transparent;\n",
              "      border-right-color: var(--fill-color);\n",
              "      border-bottom-color: var(--fill-color);\n",
              "    }\n",
              "    90% {\n",
              "      border-color: transparent;\n",
              "      border-bottom-color: var(--fill-color);\n",
              "    }\n",
              "  }\n",
              "</style>\n",
              "\n",
              "  <script>\n",
              "    async function quickchart(key) {\n",
              "      const quickchartButtonEl =\n",
              "        document.querySelector('#' + key + ' button');\n",
              "      quickchartButtonEl.disabled = true;  // To prevent multiple clicks.\n",
              "      quickchartButtonEl.classList.add('colab-df-spinner');\n",
              "      try {\n",
              "        const charts = await google.colab.kernel.invokeFunction(\n",
              "            'suggestCharts', [key], {});\n",
              "      } catch (error) {\n",
              "        console.error('Error during call to suggestCharts:', error);\n",
              "      }\n",
              "      quickchartButtonEl.classList.remove('colab-df-spinner');\n",
              "      quickchartButtonEl.classList.add('colab-df-quickchart-complete');\n",
              "    }\n",
              "    (() => {\n",
              "      let quickchartButtonEl =\n",
              "        document.querySelector('#df-266d3bf4-59a9-40bd-85de-71e3468ebfeb button');\n",
              "      quickchartButtonEl.style.display =\n",
              "        google.colab.kernel.accessAllowed ? 'block' : 'none';\n",
              "    })();\n",
              "  </script>\n",
              "</div>\n",
              "\n",
              "    </div>\n",
              "  </div>\n"
            ],
            "application/vnd.google.colaboratory.intrinsic+json": {
              "type": "dataframe",
              "variable_name": "dt",
              "summary": "{\n  \"name\": \"dt\",\n  \"rows\": 39098,\n  \"fields\": [\n    {\n      \"column\": \"id\",\n      \"properties\": {\n        \"dtype\": \"number\",\n        \"std\": 11286,\n        \"min\": 58645,\n        \"max\": 97742,\n        \"num_unique_values\": 39098,\n        \"samples\": [\n          64029,\n          79278,\n          68209\n        ],\n        \"semantic_type\": \"\",\n        \"description\": \"\"\n      }\n    },\n    {\n      \"column\": \"person_age\",\n      \"properties\": {\n        \"dtype\": \"number\",\n        \"std\": 6,\n        \"min\": 20,\n        \"max\": 94,\n        \"num_unique_values\": 52,\n        \"samples\": [\n          43,\n          60,\n          66\n        ],\n        \"semantic_type\": \"\",\n        \"description\": \"\"\n      }\n    },\n    {\n      \"column\": \"person_income\",\n      \"properties\": {\n        \"dtype\": \"number\",\n        \"std\": 37955,\n        \"min\": 4000,\n        \"max\": 1900000,\n        \"num_unique_values\": 2196,\n        \"samples\": [\n          54981,\n          37459,\n          50960\n        ],\n        \"semantic_type\": \"\",\n        \"description\": \"\"\n      }\n    },\n    {\n      \"column\": \"person_home_ownership\",\n      \"properties\": {\n        \"dtype\": \"category\",\n        \"num_unique_values\": 4,\n        \"samples\": [\n          \"MORTGAGE\",\n          \"OTHER\",\n          \"RENT\"\n        ],\n        \"semantic_type\": \"\",\n        \"description\": \"\"\n      }\n    },\n    {\n      \"column\": \"person_emp_length\",\n      \"properties\": {\n        \"dtype\": \"number\",\n        \"std\": 3.8683950398901477,\n        \"min\": 0.0,\n        \"max\": 42.0,\n        \"num_unique_values\": 31,\n        \"samples\": [\n          26.0,\n          15.0,\n          20.0\n        ],\n        \"semantic_type\": \"\",\n        \"description\": \"\"\n      }\n    },\n    {\n      \"column\": \"loan_intent\",\n      \"properties\": {\n        \"dtype\": \"category\",\n        \"num_unique_values\": 6,\n        \"samples\": [\n          \"HOMEIMPROVEMENT\",\n          \"PERSONAL\",\n          \"MEDICAL\"\n        ],\n        \"semantic_type\": \"\",\n        \"description\": \"\"\n      }\n    },\n    {\n      \"column\": \"loan_grade\",\n      \"properties\": {\n        \"dtype\": \"category\",\n        \"num_unique_values\": 7,\n        \"samples\": [\n          \"F\",\n          \"C\",\n          \"B\"\n        ],\n        \"semantic_type\": \"\",\n        \"description\": \"\"\n      }\n    },\n    {\n      \"column\": \"loan_amnt\",\n      \"properties\": {\n        \"dtype\": \"number\",\n        \"std\": 5576,\n        \"min\": 700,\n        \"max\": 35000,\n        \"num_unique_values\": 482,\n        \"samples\": [\n          4975,\n          24800,\n          9575\n        ],\n        \"semantic_type\": \"\",\n        \"description\": \"\"\n      }\n    },\n    {\n      \"column\": \"loan_int_rate\",\n      \"properties\": {\n        \"dtype\": \"number\",\n        \"std\": 3.020219615559393,\n        \"min\": 5.42,\n        \"max\": 22.11,\n        \"num_unique_values\": 336,\n        \"samples\": [\n          10.75,\n          21.21,\n          13.75\n        ],\n        \"semantic_type\": \"\",\n        \"description\": \"\"\n      }\n    },\n    {\n      \"column\": \"loan_percent_income\",\n      \"properties\": {\n        \"dtype\": \"number\",\n        \"std\": 0.09163339703758701,\n        \"min\": 0.0,\n        \"max\": 0.73,\n        \"num_unique_values\": 63,\n        \"samples\": [\n          0.6,\n          0.52,\n          0.36\n        ],\n        \"semantic_type\": \"\",\n        \"description\": \"\"\n      }\n    },\n    {\n      \"column\": \"cb_person_default_on_file\",\n      \"properties\": {\n        \"dtype\": \"category\",\n        \"num_unique_values\": 2,\n        \"samples\": [\n          \"Y\",\n          \"N\"\n        ],\n        \"semantic_type\": \"\",\n        \"description\": \"\"\n      }\n    },\n    {\n      \"column\": \"cb_person_cred_hist_length\",\n      \"properties\": {\n        \"dtype\": \"number\",\n        \"std\": 4,\n        \"min\": 2,\n        \"max\": 30,\n        \"num_unique_values\": 29,\n        \"samples\": [\n          27,\n          14\n        ],\n        \"semantic_type\": \"\",\n        \"description\": \"\"\n      }\n    }\n  ]\n}"
            }
          },
          "metadata": {},
          "execution_count": 77
        }
      ],
      "source": [
        "dt.head()"
      ]
    },
    {
      "cell_type": "code",
      "execution_count": 78,
      "metadata": {
        "colab": {
          "base_uri": "https://localhost:8080/",
          "height": 460
        },
        "id": "NiHoUg5k4gMx",
        "outputId": "96083088-366b-4be4-dabb-f0f49372072a"
      },
      "outputs": [
        {
          "output_type": "execute_result",
          "data": {
            "text/plain": [
              "id                            0\n",
              "person_age                    0\n",
              "person_income                 0\n",
              "person_home_ownership         0\n",
              "person_emp_length             0\n",
              "loan_intent                   0\n",
              "loan_grade                    0\n",
              "loan_amnt                     0\n",
              "loan_int_rate                 0\n",
              "loan_percent_income           0\n",
              "cb_person_default_on_file     0\n",
              "cb_person_cred_hist_length    0\n",
              "dtype: int64"
            ],
            "text/html": [
              "<div>\n",
              "<style scoped>\n",
              "    .dataframe tbody tr th:only-of-type {\n",
              "        vertical-align: middle;\n",
              "    }\n",
              "\n",
              "    .dataframe tbody tr th {\n",
              "        vertical-align: top;\n",
              "    }\n",
              "\n",
              "    .dataframe thead th {\n",
              "        text-align: right;\n",
              "    }\n",
              "</style>\n",
              "<table border=\"1\" class=\"dataframe\">\n",
              "  <thead>\n",
              "    <tr style=\"text-align: right;\">\n",
              "      <th></th>\n",
              "      <th>0</th>\n",
              "    </tr>\n",
              "  </thead>\n",
              "  <tbody>\n",
              "    <tr>\n",
              "      <th>id</th>\n",
              "      <td>0</td>\n",
              "    </tr>\n",
              "    <tr>\n",
              "      <th>person_age</th>\n",
              "      <td>0</td>\n",
              "    </tr>\n",
              "    <tr>\n",
              "      <th>person_income</th>\n",
              "      <td>0</td>\n",
              "    </tr>\n",
              "    <tr>\n",
              "      <th>person_home_ownership</th>\n",
              "      <td>0</td>\n",
              "    </tr>\n",
              "    <tr>\n",
              "      <th>person_emp_length</th>\n",
              "      <td>0</td>\n",
              "    </tr>\n",
              "    <tr>\n",
              "      <th>loan_intent</th>\n",
              "      <td>0</td>\n",
              "    </tr>\n",
              "    <tr>\n",
              "      <th>loan_grade</th>\n",
              "      <td>0</td>\n",
              "    </tr>\n",
              "    <tr>\n",
              "      <th>loan_amnt</th>\n",
              "      <td>0</td>\n",
              "    </tr>\n",
              "    <tr>\n",
              "      <th>loan_int_rate</th>\n",
              "      <td>0</td>\n",
              "    </tr>\n",
              "    <tr>\n",
              "      <th>loan_percent_income</th>\n",
              "      <td>0</td>\n",
              "    </tr>\n",
              "    <tr>\n",
              "      <th>cb_person_default_on_file</th>\n",
              "      <td>0</td>\n",
              "    </tr>\n",
              "    <tr>\n",
              "      <th>cb_person_cred_hist_length</th>\n",
              "      <td>0</td>\n",
              "    </tr>\n",
              "  </tbody>\n",
              "</table>\n",
              "</div><br><label><b>dtype:</b> int64</label>"
            ]
          },
          "metadata": {},
          "execution_count": 78
        }
      ],
      "source": [
        "dt.isnull().sum()"
      ]
    },
    {
      "cell_type": "code",
      "execution_count": 79,
      "metadata": {
        "id": "TEkeE9um4qNq"
      },
      "outputs": [],
      "source": [
        "dt['person_home_ownership'] = dt['person_home_ownership'].map({\"RENT\" : 1 , \"OWN\" : 0})\n",
        "dt['loan_intent'] = dt['loan_intent'].map({\"PERSONAL\" : 1 , \"MORTGAGE\" : 2 , \"MEDICAL\" : 3, \"VENTURE\" : 4, \"EDUCATION\" : 5, \"HOMEIMPROVEMENT\" : 6, \"DEBTCONSOLIDATION\" : 7})\n",
        "dt['loan_grade'] = dt['loan_grade'].map({\"A\" : 1 , \"B\" : 2 , \"C\" : 3, \"D\" : 4, \"E\" : 5, \"F\" : 6})\n",
        "dt['cb_person_default_on_file'] = dt['cb_person_default_on_file'].map({\"Y\" : 1 , \"N\" : 0})"
      ]
    },
    {
      "cell_type": "code",
      "source": [
        "df.info()"
      ],
      "metadata": {
        "colab": {
          "base_uri": "https://localhost:8080/"
        },
        "id": "JReojKbYGqZm",
        "outputId": "cb43c3e7-bc92-441c-87d6-d70a77ed3c4b"
      },
      "execution_count": 85,
      "outputs": [
        {
          "output_type": "stream",
          "name": "stdout",
          "text": [
            "<class 'pandas.core.frame.DataFrame'>\n",
            "RangeIndex: 58645 entries, 0 to 58644\n",
            "Data columns (total 13 columns):\n",
            " #   Column                      Non-Null Count  Dtype  \n",
            "---  ------                      --------------  -----  \n",
            " 0   id                          58645 non-null  int64  \n",
            " 1   person_age                  58645 non-null  int64  \n",
            " 2   person_income               58645 non-null  int64  \n",
            " 3   person_home_ownership       58645 non-null  float64\n",
            " 4   person_emp_length           58645 non-null  float64\n",
            " 5   loan_intent                 58645 non-null  float64\n",
            " 6   loan_grade                  58645 non-null  float64\n",
            " 7   loan_amnt                   58645 non-null  int64  \n",
            " 8   loan_int_rate               58645 non-null  float64\n",
            " 9   loan_percent_income         58645 non-null  float64\n",
            " 10  cb_person_default_on_file   58645 non-null  int64  \n",
            " 11  cb_person_cred_hist_length  58645 non-null  int64  \n",
            " 12  loan_status                 58645 non-null  int64  \n",
            "dtypes: float64(6), int64(7)\n",
            "memory usage: 5.8 MB\n"
          ]
        }
      ]
    },
    {
      "cell_type": "code",
      "source": [
        "dt.info()"
      ],
      "metadata": {
        "colab": {
          "base_uri": "https://localhost:8080/"
        },
        "id": "swuFLCUqHYtn",
        "outputId": "475ce7d6-31b0-46c8-b1ca-f65188ecb030"
      },
      "execution_count": 86,
      "outputs": [
        {
          "output_type": "stream",
          "name": "stdout",
          "text": [
            "<class 'pandas.core.frame.DataFrame'>\n",
            "RangeIndex: 39098 entries, 0 to 39097\n",
            "Data columns (total 12 columns):\n",
            " #   Column                      Non-Null Count  Dtype  \n",
            "---  ------                      --------------  -----  \n",
            " 0   id                          39098 non-null  int64  \n",
            " 1   person_age                  39098 non-null  int64  \n",
            " 2   person_income               39098 non-null  int64  \n",
            " 3   person_home_ownership       22336 non-null  float64\n",
            " 4   person_emp_length           39098 non-null  float64\n",
            " 5   loan_intent                 39098 non-null  int64  \n",
            " 6   loan_grade                  39080 non-null  float64\n",
            " 7   loan_amnt                   39098 non-null  int64  \n",
            " 8   loan_int_rate               39098 non-null  float64\n",
            " 9   loan_percent_income         39098 non-null  float64\n",
            " 10  cb_person_default_on_file   39098 non-null  int64  \n",
            " 11  cb_person_cred_hist_length  39098 non-null  int64  \n",
            "dtypes: float64(5), int64(7)\n",
            "memory usage: 3.6 MB\n"
          ]
        }
      ]
    },
    {
      "cell_type": "markdown",
      "metadata": {
        "id": "a6UAAMyepmHi"
      },
      "source": [
        "## 9. Generate Submission File\n",
        "\n",
        "Choose the model that has the best performance to generate a submission file."
      ]
    },
    {
      "cell_type": "code",
      "execution_count": 80,
      "metadata": {
        "colab": {
          "base_uri": "https://localhost:8080/",
          "height": 432
        },
        "id": "HrelEEFJpjzI",
        "outputId": "69c79604-caee-4802-c71b-5491d1886c6d"
      },
      "outputs": [
        {
          "output_type": "stream",
          "name": "stderr",
          "text": [
            "/usr/local/lib/python3.10/dist-packages/sklearn/base.py:486: UserWarning: X has feature names, but RandomForestClassifier was fitted without feature names\n",
            "  warnings.warn(\n"
          ]
        },
        {
          "output_type": "error",
          "ename": "ValueError",
          "evalue": "X has 12 features, but RandomForestClassifier is expecting 11 features as input.",
          "traceback": [
            "\u001b[0;31m---------------------------------------------------------------------------\u001b[0m",
            "\u001b[0;31mValueError\u001b[0m                                Traceback (most recent call last)",
            "\u001b[0;32m<ipython-input-80-5e87ac9e3f0d>\u001b[0m in \u001b[0;36m<cell line: 2>\u001b[0;34m()\u001b[0m\n\u001b[1;32m      1\u001b[0m \u001b[0mid\u001b[0m \u001b[0;34m=\u001b[0m \u001b[0msf\u001b[0m\u001b[0;34m.\u001b[0m\u001b[0mpop\u001b[0m\u001b[0;34m(\u001b[0m\u001b[0;34m'id'\u001b[0m\u001b[0;34m)\u001b[0m\u001b[0;34m\u001b[0m\u001b[0;34m\u001b[0m\u001b[0m\n\u001b[0;32m----> 2\u001b[0;31m \u001b[0my_pred\u001b[0m \u001b[0;34m=\u001b[0m \u001b[0mRFC\u001b[0m\u001b[0;34m.\u001b[0m\u001b[0mpredict\u001b[0m\u001b[0;34m(\u001b[0m\u001b[0mdt\u001b[0m\u001b[0;34m)\u001b[0m\u001b[0;34m\u001b[0m\u001b[0;34m\u001b[0m\u001b[0m\n\u001b[0m\u001b[1;32m      3\u001b[0m \u001b[0;34m\u001b[0m\u001b[0m\n\u001b[1;32m      4\u001b[0m \u001b[0;31m# Create a submission DataFrame\u001b[0m\u001b[0;34m\u001b[0m\u001b[0;34m\u001b[0m\u001b[0m\n\u001b[1;32m      5\u001b[0m submission_df = pd.DataFrame({\n",
            "\u001b[0;32m/usr/local/lib/python3.10/dist-packages/sklearn/ensemble/_forest.py\u001b[0m in \u001b[0;36mpredict\u001b[0;34m(self, X)\u001b[0m\n\u001b[1;32m    902\u001b[0m             \u001b[0mThe\u001b[0m \u001b[0mpredicted\u001b[0m \u001b[0mclasses\u001b[0m\u001b[0;34m.\u001b[0m\u001b[0;34m\u001b[0m\u001b[0;34m\u001b[0m\u001b[0m\n\u001b[1;32m    903\u001b[0m         \"\"\"\n\u001b[0;32m--> 904\u001b[0;31m         \u001b[0mproba\u001b[0m \u001b[0;34m=\u001b[0m \u001b[0mself\u001b[0m\u001b[0;34m.\u001b[0m\u001b[0mpredict_proba\u001b[0m\u001b[0;34m(\u001b[0m\u001b[0mX\u001b[0m\u001b[0;34m)\u001b[0m\u001b[0;34m\u001b[0m\u001b[0;34m\u001b[0m\u001b[0m\n\u001b[0m\u001b[1;32m    905\u001b[0m \u001b[0;34m\u001b[0m\u001b[0m\n\u001b[1;32m    906\u001b[0m         \u001b[0;32mif\u001b[0m \u001b[0mself\u001b[0m\u001b[0;34m.\u001b[0m\u001b[0mn_outputs_\u001b[0m \u001b[0;34m==\u001b[0m \u001b[0;36m1\u001b[0m\u001b[0;34m:\u001b[0m\u001b[0;34m\u001b[0m\u001b[0;34m\u001b[0m\u001b[0m\n",
            "\u001b[0;32m/usr/local/lib/python3.10/dist-packages/sklearn/ensemble/_forest.py\u001b[0m in \u001b[0;36mpredict_proba\u001b[0;34m(self, X)\u001b[0m\n\u001b[1;32m    944\u001b[0m         \u001b[0mcheck_is_fitted\u001b[0m\u001b[0;34m(\u001b[0m\u001b[0mself\u001b[0m\u001b[0;34m)\u001b[0m\u001b[0;34m\u001b[0m\u001b[0;34m\u001b[0m\u001b[0m\n\u001b[1;32m    945\u001b[0m         \u001b[0;31m# Check data\u001b[0m\u001b[0;34m\u001b[0m\u001b[0;34m\u001b[0m\u001b[0m\n\u001b[0;32m--> 946\u001b[0;31m         \u001b[0mX\u001b[0m \u001b[0;34m=\u001b[0m \u001b[0mself\u001b[0m\u001b[0;34m.\u001b[0m\u001b[0m_validate_X_predict\u001b[0m\u001b[0;34m(\u001b[0m\u001b[0mX\u001b[0m\u001b[0;34m)\u001b[0m\u001b[0;34m\u001b[0m\u001b[0;34m\u001b[0m\u001b[0m\n\u001b[0m\u001b[1;32m    947\u001b[0m \u001b[0;34m\u001b[0m\u001b[0m\n\u001b[1;32m    948\u001b[0m         \u001b[0;31m# Assign chunk of trees to jobs\u001b[0m\u001b[0;34m\u001b[0m\u001b[0;34m\u001b[0m\u001b[0m\n",
            "\u001b[0;32m/usr/local/lib/python3.10/dist-packages/sklearn/ensemble/_forest.py\u001b[0m in \u001b[0;36m_validate_X_predict\u001b[0;34m(self, X)\u001b[0m\n\u001b[1;32m    639\u001b[0m             \u001b[0mforce_all_finite\u001b[0m \u001b[0;34m=\u001b[0m \u001b[0;32mTrue\u001b[0m\u001b[0;34m\u001b[0m\u001b[0;34m\u001b[0m\u001b[0m\n\u001b[1;32m    640\u001b[0m \u001b[0;34m\u001b[0m\u001b[0m\n\u001b[0;32m--> 641\u001b[0;31m         X = self._validate_data(\n\u001b[0m\u001b[1;32m    642\u001b[0m             \u001b[0mX\u001b[0m\u001b[0;34m,\u001b[0m\u001b[0;34m\u001b[0m\u001b[0;34m\u001b[0m\u001b[0m\n\u001b[1;32m    643\u001b[0m             \u001b[0mdtype\u001b[0m\u001b[0;34m=\u001b[0m\u001b[0mDTYPE\u001b[0m\u001b[0;34m,\u001b[0m\u001b[0;34m\u001b[0m\u001b[0;34m\u001b[0m\u001b[0m\n",
            "\u001b[0;32m/usr/local/lib/python3.10/dist-packages/sklearn/base.py\u001b[0m in \u001b[0;36m_validate_data\u001b[0;34m(self, X, y, reset, validate_separately, cast_to_ndarray, **check_params)\u001b[0m\n\u001b[1;32m    652\u001b[0m \u001b[0;34m\u001b[0m\u001b[0m\n\u001b[1;32m    653\u001b[0m         \u001b[0;32mif\u001b[0m \u001b[0;32mnot\u001b[0m \u001b[0mno_val_X\u001b[0m \u001b[0;32mand\u001b[0m \u001b[0mcheck_params\u001b[0m\u001b[0;34m.\u001b[0m\u001b[0mget\u001b[0m\u001b[0;34m(\u001b[0m\u001b[0;34m\"ensure_2d\"\u001b[0m\u001b[0;34m,\u001b[0m \u001b[0;32mTrue\u001b[0m\u001b[0;34m)\u001b[0m\u001b[0;34m:\u001b[0m\u001b[0;34m\u001b[0m\u001b[0;34m\u001b[0m\u001b[0m\n\u001b[0;32m--> 654\u001b[0;31m             \u001b[0mself\u001b[0m\u001b[0;34m.\u001b[0m\u001b[0m_check_n_features\u001b[0m\u001b[0;34m(\u001b[0m\u001b[0mX\u001b[0m\u001b[0;34m,\u001b[0m \u001b[0mreset\u001b[0m\u001b[0;34m=\u001b[0m\u001b[0mreset\u001b[0m\u001b[0;34m)\u001b[0m\u001b[0;34m\u001b[0m\u001b[0;34m\u001b[0m\u001b[0m\n\u001b[0m\u001b[1;32m    655\u001b[0m \u001b[0;34m\u001b[0m\u001b[0m\n\u001b[1;32m    656\u001b[0m         \u001b[0;32mreturn\u001b[0m \u001b[0mout\u001b[0m\u001b[0;34m\u001b[0m\u001b[0;34m\u001b[0m\u001b[0m\n",
            "\u001b[0;32m/usr/local/lib/python3.10/dist-packages/sklearn/base.py\u001b[0m in \u001b[0;36m_check_n_features\u001b[0;34m(self, X, reset)\u001b[0m\n\u001b[1;32m    441\u001b[0m \u001b[0;34m\u001b[0m\u001b[0m\n\u001b[1;32m    442\u001b[0m         \u001b[0;32mif\u001b[0m \u001b[0mn_features\u001b[0m \u001b[0;34m!=\u001b[0m \u001b[0mself\u001b[0m\u001b[0;34m.\u001b[0m\u001b[0mn_features_in_\u001b[0m\u001b[0;34m:\u001b[0m\u001b[0;34m\u001b[0m\u001b[0;34m\u001b[0m\u001b[0m\n\u001b[0;32m--> 443\u001b[0;31m             raise ValueError(\n\u001b[0m\u001b[1;32m    444\u001b[0m                 \u001b[0;34mf\"X has {n_features} features, but {self.__class__.__name__} \"\u001b[0m\u001b[0;34m\u001b[0m\u001b[0;34m\u001b[0m\u001b[0m\n\u001b[1;32m    445\u001b[0m                 \u001b[0;34mf\"is expecting {self.n_features_in_} features as input.\"\u001b[0m\u001b[0;34m\u001b[0m\u001b[0;34m\u001b[0m\u001b[0m\n",
            "\u001b[0;31mValueError\u001b[0m: X has 12 features, but RandomForestClassifier is expecting 11 features as input."
          ]
        }
      ],
      "source": [
        "id = sf.pop('id')\n",
        "y_pred = RFC.predict(dt)\n",
        "\n",
        "# Create a submission DataFrame\n",
        "submission_df = pd.DataFrame({\n",
        "    'id': id,\n",
        "    'loan_status': y_pred\n",
        "})\n",
        "\n",
        "# Save the submission DataFrame to a CSV file\n",
        "submission_df.to_csv('submission_file.csv', index=False)\n",
        "print(\"Submission file created: submission_file.csv\")"
      ]
    }
  ],
  "metadata": {
    "colab": {
      "collapsed_sections": [
        "eCNNEXIhftVN",
        "mLFiGySNftVP",
        "ntGpbsBg8hft"
      ],
      "provenance": [],
      "include_colab_link": true
    },
    "kernelspec": {
      "display_name": "Python 3",
      "name": "python3"
    },
    "language_info": {
      "name": "python",
      "version": "3.12.4"
    }
  },
  "nbformat": 4,
  "nbformat_minor": 0
}